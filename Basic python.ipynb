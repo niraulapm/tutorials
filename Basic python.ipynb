{
 "cells": [
  {
   "cell_type": "markdown",
   "metadata": {},
   "source": [
    "# Date and time"
   ]
  },
  {
   "cell_type": "markdown",
   "metadata": {},
   "source": [
    "Python's time and calendar modules help track of dates and times."
   ]
  },
  {
   "cell_type": "markdown",
   "metadata": {},
   "source": [
    "**What is Tick?** \n",
    "\n",
    "Time intervals are floating-point numbers in units of seconds. Particular instants in time are expressed in senconds since 12:00am January 1,1970(epoch).\n",
    "There is a popular **time** module available in python which provides function for working with times, and for converting between representations. The function time.time() returns the current system time in ticks since epoch."
   ]
  },
  {
   "cell_type": "code",
   "execution_count": 4,
   "metadata": {},
   "outputs": [
    {
     "name": "stdout",
     "output_type": "stream",
     "text": [
      "Number of ticks in 12:00am January 1,1970: 1579233491.4303014\n"
     ]
    }
   ],
   "source": [
    "import time\n",
    "\n",
    "ticks = time.time()\n",
    "print(\"Number of ticks in 12:00am January 1,1970:\",ticks)"
   ]
  },
  {
   "cell_type": "markdown",
   "metadata": {},
   "source": [
    "Dates before the epoch can not be represented in this form. Dates in far future also cannot be represented this way. The cutoff point is sometime in 2038 for UNIX and Windows."
   ]
  },
  {
   "cell_type": "markdown",
   "metadata": {},
   "source": [
    "**Getting current time**"
   ]
  },
  {
   "cell_type": "code",
   "execution_count": 5,
   "metadata": {},
   "outputs": [
    {
     "name": "stdout",
     "output_type": "stream",
     "text": [
      "Local time is:  time.struct_time(tm_year=2020, tm_mon=1, tm_mday=16, tm_hour=23, tm_min=3, tm_sec=4, tm_wday=3, tm_yday=16, tm_isdst=0)\n"
     ]
    }
   ],
   "source": [
    "print(\"Local time is: \",time.localtime(time.time()))"
   ]
  },
  {
   "cell_type": "markdown",
   "metadata": {},
   "source": [
    "**Getting formatted time**"
   ]
  },
  {
   "cell_type": "code",
   "execution_count": 6,
   "metadata": {},
   "outputs": [
    {
     "name": "stdout",
     "output_type": "stream",
     "text": [
      "Local time is:  Thu Jan 16 23:04:46 2020\n"
     ]
    }
   ],
   "source": [
    "print(\"Local time is: \", time.asctime(time.localtime(time.time())))"
   ]
  },
  {
   "cell_type": "markdown",
   "metadata": {},
   "source": [
    "**Getting calendar for a month**"
   ]
  },
  {
   "cell_type": "code",
   "execution_count": 8,
   "metadata": {},
   "outputs": [
    {
     "name": "stdout",
     "output_type": "stream",
     "text": [
      "    January 2008\n",
      "Mo Tu We Th Fr Sa Su\n",
      "    1  2  3  4  5  6\n",
      " 7  8  9 10 11 12 13\n",
      "14 15 16 17 18 19 20\n",
      "21 22 23 24 25 26 27\n",
      "28 29 30 31\n",
      "\n"
     ]
    }
   ],
   "source": [
    "import calendar\n",
    "\n",
    "cal = calendar.month(2008,1)\n",
    "print(cal)"
   ]
  },
  {
   "cell_type": "markdown",
   "metadata": {},
   "source": [
    "**Is a leap year ?**"
   ]
  },
  {
   "cell_type": "code",
   "execution_count": 11,
   "metadata": {},
   "outputs": [
    {
     "name": "stdout",
     "output_type": "stream",
     "text": [
      "True\n"
     ]
    }
   ],
   "source": [
    "print(calendar.isleap(2008))"
   ]
  },
  {
   "cell_type": "markdown",
   "metadata": {},
   "source": [
    "** Which day is this?**"
   ]
  },
  {
   "cell_type": "code",
   "execution_count": 13,
   "metadata": {},
   "outputs": [
    {
     "name": "stdout",
     "output_type": "stream",
     "text": [
      "3\n"
     ]
    }
   ],
   "source": [
    "print(calendar.weekday(2008,1,3))"
   ]
  },
  {
   "cell_type": "markdown",
   "metadata": {},
   "source": [
    "**0-Monday to 6-Sunday**"
   ]
  },
  {
   "cell_type": "markdown",
   "metadata": {},
   "source": [
    "# Exceptions Handling"
   ]
  },
  {
   "cell_type": "markdown",
   "metadata": {},
   "source": [
    "\n",
    "### List of standard Exceptions:"
   ]
  },
  {
   "cell_type": "markdown",
   "metadata": {},
   "source": [
    "* Exception : Base class for all exceptions\n",
    "* ZeroDivisionError : Raised when division or modulo by zero place for all numeric types.\n",
    "* IndexError : Raised when an index is not found in a sequence.\n",
    "* KeyError : Raised when the specific key is not found in the dictionary.\n",
    "* NameError : Raised when an idenfifier is not found in the local or global namespace.\n",
    "* SyntaxError : Raised when there is an error in Python syntax.\n",
    "* IndentationError : Raised when identation is not specified properly.\n",
    "* TypeError : Raised when an operation or function is attempted that is invalid for the specific data type.\n",
    "* ValueError : Raised when the build-in function for a data type has the valid type of arguments, but the arguments have invalid vlues specified.\n",
    "* RuntimeError : Raised when a generated error does not fall into any category.\n",
    "\n"
   ]
  },
  {
   "cell_type": "markdown",
   "metadata": {},
   "source": [
    "**What is Exception ?** An exception is an event, which occurs during the execution of a program that disrupts normal flow of the program's instructions.\n",
    "\n",
    "When a python script raises an exception, it must either handle the exception immediately otherwise it terminates and quits."
   ]
  },
  {
   "cell_type": "markdown",
   "metadata": {},
   "source": [
    "**Handling an exception** If you have some suspicious code that may raise an exception, you can defend your program by placing the suspicious code in a **try:** block.\n",
    "\n"
   ]
  },
  {
   "cell_type": "raw",
   "metadata": {},
   "source": [
    "try:\n",
    "   You do your operations here;\n",
    "   ......................\n",
    "except ExceptionI:\n",
    "   If there is ExceptionI, then execute this block.\n",
    "except ExceptionII:\n",
    "   If there is ExceptionII, then execute this block.\n",
    "   ......................\n",
    "else:\n",
    "   If there is no exception then execute this block. "
   ]
  },
  {
   "cell_type": "code",
   "execution_count": 20,
   "metadata": {},
   "outputs": [
    {
     "name": "stdout",
     "output_type": "stream",
     "text": [
      "Written content in the file successfully\n"
     ]
    }
   ],
   "source": [
    "# Example 1\n",
    "try:\n",
    "    fh = open(\"testfile\", \"w\")\n",
    "    fh.write(\"This is my test file for handling exception.\")\n",
    "except IOError:\n",
    "    print(\"Error: can't find the file or read data\")\n",
    "else:\n",
    "    print(\"Written content in the file successfully\")\n",
    "    fh.close()"
   ]
  },
  {
   "cell_type": "code",
   "execution_count": 21,
   "metadata": {
    "scrolled": true
   },
   "outputs": [
    {
     "name": "stdout",
     "output_type": "stream",
     "text": [
      "Error: can't find file or read data\n"
     ]
    }
   ],
   "source": [
    "# Example 2\n",
    "try:\n",
    "   fh = open(\"testfile\", \"r\")\n",
    "   fh.write(\"This is my test file for exception handling!!\")\n",
    "except IOError:\n",
    "   print (\"Error: can\\'t find file or read data\")\n",
    "else:\n",
    "   print (\"Written content in the file successfully\")"
   ]
  },
  {
   "cell_type": "markdown",
   "metadata": {},
   "source": [
    "**the except clause with no exceptions**"
   ]
  },
  {
   "cell_type": "raw",
   "metadata": {},
   "source": [
    "the except clause with no exceptions \n",
    "try:\n",
    "   You do your operations here;\n",
    "   ......................\n",
    "except:\n",
    "   If there is any exception, then execute this block.\n",
    "   ......................\n",
    "else:\n",
    "   If there is no exception then execute this block."
   ]
  },
  {
   "cell_type": "markdown",
   "metadata": {},
   "source": [
    "This type of try-except statements catches all the exceptions that occur. Using this kind of try-except statement is not considered a good programming practice though, because it catches ll exceptions but does not make the programmer identify the root cause of the problem that my occur."
   ]
  },
  {
   "cell_type": "markdown",
   "metadata": {},
   "source": [
    "**Try-finally Clause**"
   ]
  },
  {
   "cell_type": "markdown",
   "metadata": {},
   "source": [
    "You can use **finally:** block along with **try:** block. The finally block is a place to put any code that must execute, whether the try-block raise an exception or not."
   ]
  },
  {
   "cell_type": "raw",
   "metadata": {},
   "source": [
    "try:\n",
    "   You do your operations here;\n",
    "   ......................\n",
    "   Due to any exception, this may be skipped.\n",
    "finally:\n",
    "   This would always be executed.\n",
    "   ......................"
   ]
  },
  {
   "cell_type": "code",
   "execution_count": 24,
   "metadata": {},
   "outputs": [
    {
     "name": "stdout",
     "output_type": "stream",
     "text": [
      "Error: can't find file or read data\n",
      "must run this block whether the try block raise an exception or not\n"
     ]
    }
   ],
   "source": [
    "# Example 1\n",
    "try:\n",
    "   fh = open(\"testfile\", \"r\")\n",
    "   fh.write(\"This is my test file for exception handling!!\")\n",
    "except IOError:\n",
    "   print (\"Error: can\\'t find file or read data\")\n",
    "finally:\n",
    "   print (\"must run this block whether the try block raise an exception or not\")"
   ]
  },
  {
   "cell_type": "code",
   "execution_count": 28,
   "metadata": {},
   "outputs": [
    {
     "name": "stdout",
     "output_type": "stream",
     "text": [
      "Going to close the file\n"
     ]
    }
   ],
   "source": [
    "# Example 2\n",
    "try:\n",
    "   fh = open(\"testfile\", \"w\")\n",
    "   try:\n",
    "      fh.write(\"This is my test file for exception handling!!\")\n",
    "   finally:\n",
    "      print (\"Going to close the file\")\n",
    "      fh.close()\n",
    "except IOError:\n",
    "   print (\"Error: can\\'t find file or read data\")"
   ]
  },
  {
   "cell_type": "code",
   "execution_count": 29,
   "metadata": {},
   "outputs": [
    {
     "name": "stdout",
     "output_type": "stream",
     "text": [
      "Going to close the file\n",
      "Error: can't find file or read data\n"
     ]
    }
   ],
   "source": [
    "# Example 3\n",
    "\n",
    "try:\n",
    "   fh = open(\"testfile\", \"r\")\n",
    "   try:\n",
    "      fh.write(\"This is my test file for exception handling!!\")\n",
    "   finally:\n",
    "      print (\"Going to close the file\")\n",
    "      fh.close()\n",
    "except IOError:\n",
    "   print (\"Error: can\\'t find file or read data\")"
   ]
  },
  {
   "cell_type": "markdown",
   "metadata": {},
   "source": [
    "**Argument of an Exception**"
   ]
  },
  {
   "cell_type": "markdown",
   "metadata": {},
   "source": [
    "An exception can have an argument, which is a value that gives additional information about the problem. The contens of the argument vary by exception. You can capture an exception's argument by supplying a variable in the except clause as follows"
   ]
  },
  {
   "cell_type": "raw",
   "metadata": {},
   "source": [
    "try:\n",
    "   You do your operations here;\n",
    "   ......................\n",
    "except ExceptionType as Argument:\n",
    "   You can print value of Argument here..."
   ]
  },
  {
   "cell_type": "markdown",
   "metadata": {},
   "source": [
    "If you write the code to handle a single exception, you can have a variable follow the name of the exception in the except statement. If you are trapping multiple exceptions, you can have a variable follow the tuple of exception.\n",
    "\n",
    "This variable receives the value of the exception mostly containing the cause of the exception. The variable can receive a single value or multiple values in the form of a tuple. This tuple usually contians the error string, the error number and an error location."
   ]
  },
  {
   "cell_type": "code",
   "execution_count": 46,
   "metadata": {},
   "outputs": [
    {
     "name": "stdout",
     "output_type": "stream",
     "text": [
      "The argument does not contain numbers\n",
      " invalid literal for int() with base 10: 'xyz'\n"
     ]
    }
   ],
   "source": [
    "def temp_convert(var):\n",
    "   try:\n",
    "      return int(var)\n",
    "   except Exception as Argument:\n",
    "      print (\"The argument does not contain numbers\\n\",Argument)\n",
    "\n",
    "# Call above function here.\n",
    "temp_convert(\"xyz\");"
   ]
  },
  {
   "cell_type": "markdown",
   "metadata": {},
   "source": [
    "### Raising exceptions"
   ]
  },
  {
   "cell_type": "markdown",
   "metadata": {},
   "source": [
    "You can raise exceptions using **raise** statement as follows:\n"
   ]
  },
  {
   "cell_type": "raw",
   "metadata": {},
   "source": [
    "raise [Exception [, args [, traceback]]]"
   ]
  },
  {
   "cell_type": "markdown",
   "metadata": {},
   "source": [
    "Here,Exception is the type of exception (for example, NameError) and arg is a value for the exception argument (optional,if not supplied exception argument is None)\n",
    "\n",
    "The traceback is also optional (rarely used) and if present, is the traceback object used for the exception.\n"
   ]
  },
  {
   "cell_type": "code",
   "execution_count": 69,
   "metadata": {},
   "outputs": [
    {
     "name": "stdout",
     "output_type": "stream",
     "text": [
      "level is less than 1 \n",
      " Error: \n",
      " ('Invalid layer', 0)\n"
     ]
    }
   ],
   "source": [
    "# Example 1\n",
    "def function_name(level):\n",
    "    if level < 1:\n",
    "        raise Exception(\"Invalid layer\",level)\n",
    "    return level\n",
    "    \n",
    "try:\n",
    "    function_name(0)\n",
    "except Exception as e:\n",
    "    print(\"level is less than 1 \\n Error: \\n\",e)\n",
    "else:\n",
    "    print(\"Level is valid\")"
   ]
  },
  {
   "cell_type": "markdown",
   "metadata": {},
   "source": [
    "**User defined Exceptions**"
   ]
  },
  {
   "cell_type": "markdown",
   "metadata": {},
   "source": [
    "Here is an example related to RuntimeError. A class is created that is subclassed from RuntimeError. This is useful when you need to display more specific information when exception is caught.\n",
    "\n",
    "In the **try:** block user-defined exception is raised and caught in the **except:** block. The variable e is used to create an instance of class NetworkError."
   ]
  },
  {
   "cell_type": "code",
   "execution_count": 91,
   "metadata": {},
   "outputs": [
    {
     "name": "stdout",
     "output_type": "stream",
     "text": [
      "('no connection',)\n"
     ]
    }
   ],
   "source": [
    "class NetwrokError(RuntimeError):\n",
    "    def __init__(self,*args):\n",
    "        self.args = args\n",
    "\n",
    "try:\n",
    "    raise NetwrokError(\"no connection\")\n",
    "except NetwrokError as e:Files\n",
    "    print(e.args)"
   ]
  },
  {
   "cell_type": "markdown",
   "metadata": {},
   "source": [
    "# Files I/O"
   ]
  },
  {
   "cell_type": "markdown",
   "metadata": {},
   "source": [
    "**Opening and closing files** Python provides basic functions and methods necessary to manipulate files by default. You can do most of the file manipulation using a file object.\n"
   ]
  },
  {
   "cell_type": "markdown",
   "metadata": {},
   "source": [
    "**Open** Before you can read or write a file, you have to open it using build in **Open** function.\n",
    "\n",
    "This function creates a file object, which would be utilized to call other methods associated with it."
   ]
  },
  {
   "cell_type": "raw",
   "metadata": {},
   "source": [
    "syntax:\n",
    "file_object = open(file_name[, access_mode][, buffering])"
   ]
  },
  {
   "cell_type": "markdown",
   "metadata": {},
   "source": [
    "* file_name : string value that contains the name of the file that you want to access.\n",
    "* access_mode: Determines the mode in which the file has to be opened.\n",
    "i.e. read,write, append,etc.\n",
    "\n",
    "* buffereing:\n",
    "\n",
    "-- If set to 0 => No buffering takes place.\n",
    "\n",
    "-- If set to 1 => line buffering is perfomed while buffering a file.\n",
    "\n",
    "-- If set to greater than 1 => buffering action is performed with the indicated buffer size.\n",
    "\n",
    "-- If negative => the buffer size is the system default"
   ]
  },
  {
   "cell_type": "markdown",
   "metadata": {},
   "source": [
    "## os module for working with files"
   ]
  },
  {
   "cell_type": "markdown",
   "metadata": {},
   "source": [
    "**Renaming**"
   ]
  },
  {
   "cell_type": "raw",
   "metadata": {},
   "source": [
    "os.rename(current_file_name, new_file_name)"
   ]
  },
  {
   "cell_type": "code",
   "execution_count": 94,
   "metadata": {},
   "outputs": [],
   "source": [
    "import os\n",
    "os.rename('testfile','mytestfile')"
   ]
  },
  {
   "cell_type": "code",
   "execution_count": 96,
   "metadata": {},
   "outputs": [
    {
     "name": "stdout",
     "output_type": "stream",
     "text": [
      "['pics', '.ipynb_checkpoints', 'Data Structures.ipynb', 'Basic python.ipynb', 'mytestfile']\n"
     ]
    }
   ],
   "source": [
    "print(os.listdir())"
   ]
  },
  {
   "cell_type": "markdown",
   "metadata": {},
   "source": [
    "**Removing**"
   ]
  },
  {
   "cell_type": "raw",
   "metadata": {},
   "source": [
    "os.remove(filename)"
   ]
  },
  {
   "cell_type": "markdown",
   "metadata": {},
   "source": [
    "**Make new directory**"
   ]
  },
  {
   "cell_type": "raw",
   "metadata": {},
   "source": [
    "os.mkdir(\"New dir\")"
   ]
  },
  {
   "cell_type": "markdown",
   "metadata": {},
   "source": [
    "**Change directiory**"
   ]
  },
  {
   "cell_type": "raw",
   "metadata": {},
   "source": [
    "os.chdir(\"newdir\")"
   ]
  },
  {
   "cell_type": "markdown",
   "metadata": {},
   "source": [
    "**Current working dir**"
   ]
  },
  {
   "cell_type": "raw",
   "metadata": {},
   "source": [
    "os.getcwd()"
   ]
  },
  {
   "cell_type": "markdown",
   "metadata": {},
   "source": [
    "**delete current directory**"
   ]
  },
  {
   "cell_type": "raw",
   "metadata": {},
   "source": [
    "os.rmdir('dirname')"
   ]
  }
 ],
 "metadata": {
  "kernelspec": {
   "display_name": "Python 3",
   "language": "python",
   "name": "python3"
  },
  "language_info": {
   "codemirror_mode": {
    "name": "ipython",
    "version": 3
   },
   "file_extension": ".py",
   "mimetype": "text/x-python",
   "name": "python",
   "nbconvert_exporter": "python",
   "pygments_lexer": "ipython3",
   "version": "3.7.3"
  }
 },
 "nbformat": 4,
 "nbformat_minor": 2
}
