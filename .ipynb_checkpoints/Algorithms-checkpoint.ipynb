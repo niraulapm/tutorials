{
 "cells": [
  {
   "cell_type": "markdown",
   "metadata": {},
   "source": [
    "Algorithm is a step-by-step procedure, which defines a set of instructios tobe executed in a certain order to get the desired output. Algorithms are generally created independent of underlying languages."
   ]
  },
  {
   "cell_type": "markdown",
   "metadata": {},
   "source": [
    "# Greedy algorithms"
   ]
  },
  {
   "cell_type": "markdown",
   "metadata": {},
   "source": [
    "Greedy algorithms try to find a localized optimum solution, which may eventually lead to globally optimized solutions. However, grenerally greedy algorithms do not provide globally optimized solutions.\n",
    "\n",
    "So greedy algorithms look for an easy solution at that point in time without considering how it impacts the future steps. It is similar how humans solve problems without going through the complete details of the inputs providees.\n",
    "\n",
    "Most networking algorithms use the greedy approach. Example:\n",
    "* Traveling salesman problem\n",
    "* Prim's minimal spanning tree algorithm\n",
    "* Kruskal's minimal spanning tree algorithm\n",
    "* Dijkstra's minimal spanning tree algorithm"
   ]
  },
  {
   "cell_type": "markdown",
   "metadata": {},
   "source": [
    "# Dynamic programming"
   ]
  },
  {
   "cell_type": "markdown",
   "metadata": {},
   "source": [
    "Dynamic programming involves dividing the bigger problem into smaller ones but unlike divide and conquer it does not involve solving each sub-problem independently. Rather the results of smaller sub-problems are remembered and used for similar or overlapping sub-problems. Mostly, these algorithms are used for optimization. Before solving the in-hand sub-problem, dynamic algorithm will try to examine the results of the previously solved sub-problems.\n",
    "\n",
    "Example:\n",
    "* Fibonacci number series\n",
    "* Knapsack problem\n",
    "* Tower of Hanoi"
   ]
  },
  {
   "cell_type": "markdown",
   "metadata": {},
   "source": [
    "# Divide and conquer"
   ]
  },
  {
   "cell_type": "markdown",
   "metadata": {},
   "source": [
    "In divide and conquer approach, the problem in hand, is divided into smaller sub-problems and then each problem is solved independently. The solutions of all sub-problems are finally merged in order to obtain the solution of an original problem."
   ]
  },
  {
   "cell_type": "markdown",
   "metadata": {},
   "source": [
    "<img src=\"pics/divide_and_conquer.jpg\">"
   ]
  },
  {
   "cell_type": "markdown",
   "metadata": {},
   "source": [
    "Brodly, we can understand divide-and-conquer in a three steps"
   ]
  },
  {
   "cell_type": "markdown",
   "metadata": {},
   "source": [
    "### Divide/break"
   ]
  },
  {
   "cell_type": "markdown",
   "metadata": {},
   "source": [
    "This step involves breaking the problem into smaller sub-problesms. Sub-problems should represent a part of the origial problem. This step generally takes a recursive approach to divide the problem until no sub-problem is further divisible. "
   ]
  },
  {
   "cell_type": "markdown",
   "metadata": {},
   "source": [
    "### conquer/solve"
   ]
  },
  {
   "cell_type": "markdown",
   "metadata": {},
   "source": [
    "This step receives a lot of smaller sub-problems to be solved. Generally, at this level, the problems are considered 'solved' on their own."
   ]
  },
  {
   "cell_type": "markdown",
   "metadata": {},
   "source": [
    "### Merge/combine"
   ]
  },
  {
   "cell_type": "markdown",
   "metadata": {},
   "source": [
    "When the smaller sub-problems are solved, theis stage recursively combines them until they formulate a solution of the original problem. This algorithmic approach works recursively and conquer & merge steps works so close that they appear as one."
   ]
  },
  {
   "cell_type": "markdown",
   "metadata": {},
   "source": [
    "**Example**\n",
    "* Merge sort\n",
    "* Quick sort\n",
    "* Kruskal's minimal spanning tree algorithms\n",
    "* Binary serach\n",
    "\n",
    "An example of divide and conquer programming approach is the binary search."
   ]
  },
  {
   "cell_type": "markdown",
   "metadata": {},
   "source": [
    "**Binary search** we take a sorted list of elements and start looking for an element at the middle of the list. If athe search value matches with the middle value in teh list we complete the search. Otherwise we eleminate half of the list of elements by choosing whether to process with the right or left half of the list depending on the vlaue of the item searched. This is possible as the list is sorted and it is much quicker than linea search. "
   ]
  },
  {
   "cell_type": "code",
   "execution_count": 1,
   "metadata": {},
   "outputs": [],
   "source": [
    "def binary_search(items, value):\n",
    "    length = len(items)\n",
    "    minimum = 0\n",
    "    maximum = length\n",
    "    \n",
    "    while minimum <= maximum:\n",
    "        midpoint = (minimum+maximum)//2\n",
    "        print(\"Midpoint\",midpoint)\n",
    "        print(\"Midpoint Number\",items[midpoint])\n",
    "        \n",
    "        if value == items[midpoint]:\n",
    "            return midpoint\n",
    "        \n",
    "        elif value > items[midpoint]:\n",
    "            minimum = midpoint + 1 \n",
    "            print(\"Minimum:\",minimum)\n",
    "        else:\n",
    "            maximum = midpoint - 1\n",
    "            print(\"Maximum\",maximum)\n",
    "        \n",
    "        if minimum > maximum:\n",
    "            return         "
   ]
  },
  {
   "cell_type": "code",
   "execution_count": 2,
   "metadata": {},
   "outputs": [
    {
     "name": "stdout",
     "output_type": "stream",
     "text": [
      "Midpoint 3\n",
      "Midpoint Number 34\n",
      "Maximum 2\n",
      "Midpoint 1\n",
      "Midpoint Number 7\n",
      "Minimum: 2\n",
      "Midpoint 2\n",
      "Midpoint Number 19\n",
      "Maximum 1\n",
      "None\n"
     ]
    }
   ],
   "source": [
    "items = [2,7,19,34,53,72]\n",
    "# print(binary_search(items, 72))\n",
    "print(binary_search(items, 11))"
   ]
  },
  {
   "cell_type": "markdown",
   "metadata": {},
   "source": [
    "# Recursion"
   ]
  },
  {
   "cell_type": "markdown",
   "metadata": {},
   "source": [
    "Recursion allows a function to call itself. Fixed steps of code get executed agian and again for new values. \n",
    "\n",
    "**binary search** using recursion. We use an ordered list of items and design a recursive function to take in the list along with starting and ending index as input. Then binary search function calls itself till find teh searched item or concludes about its absence in the list."
   ]
  },
  {
   "cell_type": "code",
   "execution_count": 3,
   "metadata": {},
   "outputs": [],
   "source": [
    "def binary_search(items, minimum, maximum, value):\n",
    "    if minimum > maximum:\n",
    "        return None\n",
    "    else:\n",
    "        midpoint = minimum + (maximum-minimum)//2\n",
    "        if items[midpoint] > value:\n",
    "            return binary_search(items,minimum,midpoint-1,value)\n",
    "        elif items[midpoint] < value:\n",
    "            return binary_search(items,midpoint+1,maximum,value)\n",
    "        else:\n",
    "            return midpoint     "
   ]
  },
  {
   "cell_type": "code",
   "execution_count": 4,
   "metadata": {},
   "outputs": [
    {
     "name": "stdout",
     "output_type": "stream",
     "text": [
      "2\n"
     ]
    }
   ],
   "source": [
    "items = [8,11,24,56,88,131]\n",
    "print(binary_search(items,0,5,24))"
   ]
  },
  {
   "cell_type": "code",
   "execution_count": 5,
   "metadata": {},
   "outputs": [
    {
     "name": "stdout",
     "output_type": "stream",
     "text": [
      "None\n"
     ]
    }
   ],
   "source": [
    "print(binary_search(items,0,5,51))"
   ]
  },
  {
   "cell_type": "markdown",
   "metadata": {},
   "source": [
    "# Backtracking"
   ]
  },
  {
   "cell_type": "markdown",
   "metadata": {},
   "source": [
    "Backtracking is a form of recursion. But it involves choosing only option out of any possibilities. We begin by choosing an option and backtrack from it, if we reach a state where we conclude that this specific option does not give the required solution. We repeat these steps by going across each available option until we get the desired solution.\n",
    "\n",
    "Below is an example of finding all possible order of arrangements of a given set of letters. When we choose a pair we apply backtracking to verify if that exact pair has already been created or not. If not already created, the pair is added to the answer list else it is ignored."
   ]
  },
  {
   "cell_type": "code",
   "execution_count": 6,
   "metadata": {},
   "outputs": [],
   "source": [
    "def permute(items,s):\n",
    "    if items == 1:\n",
    "        return s\n",
    "    else:\n",
    "        return [y+x for y in permute(1,s) for x in permute(items-1,s)]\n"
   ]
  },
  {
   "cell_type": "code",
   "execution_count": 7,
   "metadata": {},
   "outputs": [
    {
     "name": "stdout",
     "output_type": "stream",
     "text": [
      "['a', 'b', 'c']\n"
     ]
    }
   ],
   "source": [
    "print(permute(1, [\"a\",\"b\",\"c\"]))"
   ]
  },
  {
   "cell_type": "code",
   "execution_count": 8,
   "metadata": {},
   "outputs": [
    {
     "name": "stdout",
     "output_type": "stream",
     "text": [
      "['aa', 'ab', 'ac', 'ba', 'bb', 'bc', 'ca', 'cb', 'cc']\n"
     ]
    }
   ],
   "source": [
    "print(permute(2, [\"a\",\"b\",\"c\"]))"
   ]
  },
  {
   "cell_type": "code",
   "execution_count": 9,
   "metadata": {},
   "outputs": [
    {
     "name": "stdout",
     "output_type": "stream",
     "text": [
      "['aaa', 'aab', 'aac', 'aba', 'abb', 'abc', 'aca', 'acb', 'acc', 'baa', 'bab', 'bac', 'bba', 'bbb', 'bbc', 'bca', 'bcb', 'bcc', 'caa', 'cab', 'cac', 'cba', 'cbb', 'cbc', 'cca', 'ccb', 'ccc']\n"
     ]
    }
   ],
   "source": [
    "print(permute(3, [\"a\",\"b\",\"c\"]))"
   ]
  },
  {
   "cell_type": "markdown",
   "metadata": {},
   "source": [
    "# Tree traversal algorithms"
   ]
  },
  {
   "cell_type": "markdown",
   "metadata": {},
   "source": [
    "Traversal is a process to visit all the nodes of a tree and may print their values too. Because, all nodes are connected via edges (links) we always start from the root (head) node. That is, we cannot randomlly access a node in a tree. There are three ways which we use to traverse a tree\n",
    "* In-order Traversal\n",
    "* Pre-order Traversal\n",
    "* Post-order Traversal"
   ]
  },
  {
   "cell_type": "markdown",
   "metadata": {},
   "source": [
    "### In-order Traversal"
   ]
  },
  {
   "cell_type": "markdown",
   "metadata": {},
   "source": [
    "In this traversal method, the left subtee is visited first, then the root and later the right sub-tree. we should always remember that every node may represent a subreee itself."
   ]
  },
  {
   "cell_type": "code",
   "execution_count": 10,
   "metadata": {},
   "outputs": [],
   "source": [
    "class Tree:\n",
    "    def __init__(self,node):\n",
    "        self.node = node\n",
    "        self.right = None\n",
    "        self.left = None\n",
    "        \n",
    "    def insert(self,node):\n",
    "        if self.node:\n",
    "            if node < self.node:\n",
    "                if self.left is None:\n",
    "                    self.left = Tree(node)\n",
    "                else:\n",
    "                    self.left.insert(node)\n",
    "            elif node > self.node:\n",
    "                if self.right is None:\n",
    "                    self.right = Tree(node)\n",
    "                else:\n",
    "                    self.right.insert(node)\n",
    "        else:\n",
    "            self.node = node\n",
    "    def inorder_traversal(self,root):\n",
    "        res = []\n",
    "        if root:\n",
    "            res = self.inorder_traversal(root.left)\n",
    "            res.append(root.node)\n",
    "            res = res + self.inorder_traversal(root.right)\n",
    "        return res\n",
    "        \n",
    "    def __repr__(self):\n",
    "        return \"Node: {}, (Right: {}, Left: {})\".format(self.node,self.right,self.left)"
   ]
  },
  {
   "cell_type": "code",
   "execution_count": 11,
   "metadata": {},
   "outputs": [],
   "source": [
    "root = Tree(27)\n",
    "root.insert(14)\n",
    "root.insert(35)\n",
    "root.insert(10)\n",
    "root.insert(19)\n",
    "root.insert(31)\n",
    "root.insert(42)\n"
   ]
  },
  {
   "cell_type": "code",
   "execution_count": 12,
   "metadata": {},
   "outputs": [
    {
     "data": {
      "text/plain": [
       "Node: 27, (Right: Node: 35, (Right: Node: 42, (Right: None, Left: None), Left: Node: 31, (Right: None, Left: None)), Left: Node: 14, (Right: Node: 19, (Right: None, Left: None), Left: Node: 10, (Right: None, Left: None)))"
      ]
     },
     "execution_count": 12,
     "metadata": {},
     "output_type": "execute_result"
    }
   ],
   "source": [
    "root"
   ]
  },
  {
   "cell_type": "code",
   "execution_count": 13,
   "metadata": {},
   "outputs": [
    {
     "data": {
      "text/plain": [
       "[10, 14, 19, 27, 31, 35, 42]"
      ]
     },
     "execution_count": 13,
     "metadata": {},
     "output_type": "execute_result"
    }
   ],
   "source": [
    "root.inorder_traversal(root)"
   ]
  },
  {
   "cell_type": "markdown",
   "metadata": {},
   "source": [
    "### Pre-order traversal"
   ]
  },
  {
   "cell_type": "markdown",
   "metadata": {},
   "source": [
    "In this traversal method, the root node is visited first, then the left subtree and finally the right subtree."
   ]
  },
  {
   "cell_type": "code",
   "execution_count": 14,
   "metadata": {},
   "outputs": [],
   "source": [
    "class Tree:\n",
    "    def __init__(self,node):\n",
    "        self.node = node\n",
    "        self.right = None\n",
    "        self.left = None\n",
    "        \n",
    "    def insert(self,node):\n",
    "        if self.node:\n",
    "            if node < self.node:\n",
    "                if self.left is None:\n",
    "                    self.left = Tree(node)\n",
    "                else:\n",
    "                    self.left.insert(node)\n",
    "            elif node > self.node:\n",
    "                if self.right is None:\n",
    "                    self.right = Tree(node)\n",
    "                else:\n",
    "                    self.right.insert(node)\n",
    "        else:\n",
    "            self.node = node\n",
    "    def inorder_traversal(self,root):\n",
    "        res = []\n",
    "        if root:\n",
    "            res = self.inorder_traversal(root.left)\n",
    "            res.append(root.node)\n",
    "            res = res + self.inorder_traversal(root.right)\n",
    "        return res\n",
    "    \n",
    "    def preorder_traversal(self, root):\n",
    "        res = []\n",
    "        if root:\n",
    "            res.append(root.node)\n",
    "            res = res + self.preorder_traversal(root.left)\n",
    "            res = res + self.preorder_traversal(root.right)\n",
    "        return res\n",
    "        \n",
    "    def __repr__(self):\n",
    "        return \"Node: {}, (Right: {}, Left: {})\".format(self.node,self.right,self.left)"
   ]
  },
  {
   "cell_type": "code",
   "execution_count": 15,
   "metadata": {},
   "outputs": [
    {
     "name": "stdout",
     "output_type": "stream",
     "text": [
      "[27, 14, 10, 19, 35, 31, 42]\n"
     ]
    }
   ],
   "source": [
    "root = Tree(27)\n",
    "root.insert(14)\n",
    "root.insert(35)\n",
    "root.insert(10)\n",
    "root.insert(19)\n",
    "root.insert(31)\n",
    "root.insert(42)\n",
    "print(root.preorder_traversal(root))"
   ]
  },
  {
   "cell_type": "code",
   "execution_count": 16,
   "metadata": {},
   "outputs": [
    {
     "data": {
      "text/plain": [
       "Node: 27, (Right: Node: 35, (Right: Node: 42, (Right: None, Left: None), Left: Node: 31, (Right: None, Left: None)), Left: Node: 14, (Right: Node: 19, (Right: None, Left: None), Left: Node: 10, (Right: None, Left: None)))"
      ]
     },
     "execution_count": 16,
     "metadata": {},
     "output_type": "execute_result"
    }
   ],
   "source": [
    "root"
   ]
  },
  {
   "cell_type": "markdown",
   "metadata": {},
   "source": [
    "### Post-order traversal"
   ]
  },
  {
   "cell_type": "markdown",
   "metadata": {},
   "source": [
    "In this traversal method, the root node is visited last, hence the name. First we traverse the left subtree, then the right subtree and finally the root node."
   ]
  },
  {
   "cell_type": "code",
   "execution_count": 17,
   "metadata": {},
   "outputs": [],
   "source": [
    "class Tree:\n",
    "    def __init__(self,node):\n",
    "        self.node = node\n",
    "        self.right = None\n",
    "        self.left = None\n",
    "        \n",
    "    def insert(self,node):\n",
    "        if self.node:\n",
    "            if node < self.node:\n",
    "                if self.left is None:\n",
    "                    self.left = Tree(node)\n",
    "                else:\n",
    "                    self.left.insert(node)\n",
    "            elif node > self.node:\n",
    "                if self.right is None:\n",
    "                    self.right = Tree(node)\n",
    "                else:\n",
    "                    self.right.insert(node)\n",
    "        else:\n",
    "            self.node = node\n",
    "    def inorder_traversal(self,root):\n",
    "        res = []\n",
    "        if root:\n",
    "            res = self.inorder_traversal(root.left)\n",
    "            res.append(root.node)\n",
    "            res = res + self.inorder_traversal(root.right)\n",
    "        return res\n",
    "    \n",
    "    def preorder_traversal(self, root):\n",
    "        res = []\n",
    "        if root:\n",
    "            res.append(root.node)\n",
    "            res = res + self.preorder_traversal(root.left)\n",
    "            res = res + self.preorder_traversal(root.right)\n",
    "        return res\n",
    "    \n",
    "    def postorder_traversal(self, root):\n",
    "        res = []\n",
    "        if root:\n",
    "            res = self.postorder_traversal(root.left)\n",
    "            res = res + self.postorder_traversal(root.right)\n",
    "            res.append(root.node)\n",
    "        return res\n",
    "        \n",
    "    def __repr__(self):\n",
    "        return \"Node: {}, (Right: {}, Left: {})\".format(self.node,self.right,self.left)"
   ]
  },
  {
   "cell_type": "code",
   "execution_count": 18,
   "metadata": {},
   "outputs": [
    {
     "name": "stdout",
     "output_type": "stream",
     "text": [
      "[10, 19, 14, 31, 42, 35, 27]\n"
     ]
    }
   ],
   "source": [
    "root = Tree(27)\n",
    "root.insert(14)\n",
    "root.insert(35)\n",
    "root.insert(10)\n",
    "root.insert(19)\n",
    "root.insert(31)\n",
    "root.insert(42)\n",
    "print(root.postorder_traversal(root))"
   ]
  },
  {
   "cell_type": "markdown",
   "metadata": {},
   "source": [
    "# Sorting algorithms"
   ]
  },
  {
   "cell_type": "markdown",
   "metadata": {},
   "source": [
    "The importance of sorting lies in the fact that data searching can be optimized to a very high level, if data is stored in a sorted manner. Sorting is also used to  represent data in more readable formats."
   ]
  },
  {
   "cell_type": "markdown",
   "metadata": {},
   "source": [
    "* Bubble sort\n",
    "* Merge sort\n",
    "* Insertion Sort\n",
    "* Shell sort\n",
    "* Selection sort"
   ]
  },
  {
   "cell_type": "markdown",
   "metadata": {},
   "source": [
    "### Bubble sort"
   ]
  },
  {
   "cell_type": "markdown",
   "metadata": {},
   "source": [
    "It is a comparision based algorithm in which each pair of adjacent elements is compared and the elements are swapped if they are not in order."
   ]
  },
  {
   "cell_type": "code",
   "execution_count": 19,
   "metadata": {},
   "outputs": [],
   "source": [
    "def bubble_sort(items):\n",
    "    for j in range(len(items)-1,0,-1):\n",
    "        for i in range(j):\n",
    "            if items[i] > items[i+1]:\n",
    "                temp = items[i]\n",
    "                items[i] = items[i+1]\n",
    "                items[i+1] = temp\n",
    "    return items           "
   ]
  },
  {
   "cell_type": "code",
   "execution_count": 20,
   "metadata": {},
   "outputs": [
    {
     "data": {
      "text/plain": [
       "[2, 6, 11, 19, 27, 31, 45, 121]"
      ]
     },
     "execution_count": 20,
     "metadata": {},
     "output_type": "execute_result"
    }
   ],
   "source": [
    "items = [19,2,31,45,6,11,121,27]\n",
    "bubble_sort(items)"
   ]
  },
  {
   "cell_type": "markdown",
   "metadata": {},
   "source": [
    "### Merge sort"
   ]
  },
  {
   "cell_type": "markdown",
   "metadata": {},
   "source": [
    "Merge sort first divides the array into equal halves and then combines them in a sorted manner."
   ]
  },
  {
   "cell_type": "code",
   "execution_count": 21,
   "metadata": {},
   "outputs": [],
   "source": [
    "def merge_sort(items):\n",
    "    if len(items) <= 1:\n",
    "        return items\n",
    "    middle = len(items)//2\n",
    "    left_list = items[:middle]\n",
    "    right_list = items[middle:]\n",
    "    left_list = merge_sort(left_list)\n",
    "    right_list = merge_sort(right_list)\n",
    "    \n",
    "    return list(merge(left_list,right_list))\n",
    "\n",
    "def merge(left_list,right_list):\n",
    "    res = []\n",
    "    while len(left_list) !=0 and len(right_list) !=0:\n",
    "        if left_list[0] < right_list[0]:\n",
    "            res.append(left_list[0])\n",
    "            left_list.remove(left_list[0])\n",
    "        else:\n",
    "            res.append(right_list[0])\n",
    "            right_list.remove(right_list[0])\n",
    "    if len(left_list) == 0:\n",
    "        res = res + right_list\n",
    "    else:\n",
    "        res = res + left_list\n",
    "    \n",
    "    return res"
   ]
  },
  {
   "cell_type": "code",
   "execution_count": 22,
   "metadata": {},
   "outputs": [
    {
     "data": {
      "text/plain": [
       "[11, 12, 22, 25, 34, 64, 90]"
      ]
     },
     "execution_count": 22,
     "metadata": {},
     "output_type": "execute_result"
    }
   ],
   "source": [
    "merge_sort([64, 34, 25, 12, 22, 11, 90])"
   ]
  },
  {
   "cell_type": "markdown",
   "metadata": {},
   "source": [
    "### Insertion sort"
   ]
  },
  {
   "cell_type": "markdown",
   "metadata": {},
   "source": [
    "Insertion sort involves finding the right place for a given element is a sorted list. So in the beginning we compare the first two element and sort them by comparing them. Then we pick the third elemetn and firnd its proper position among the previsous two sorted elements. Thsi way we gradually go on adding more elements to already sorted lsit putting them in theeir proper position."
   ]
  },
  {
   "cell_type": "code",
   "execution_count": 23,
   "metadata": {},
   "outputs": [],
   "source": [
    "def insertion_sort(items):\n",
    "    for i in range(1, len(items)):\n",
    "        c = i-1\n",
    "        next_element = items[i]\n",
    "        while items[c] > next_element  and c >=0:\n",
    "            items[c+1] = items[c]\n",
    "            c -= 1\n",
    "            items[c+1] = next_element\n",
    "    return items"
   ]
  },
  {
   "cell_type": "code",
   "execution_count": 24,
   "metadata": {},
   "outputs": [
    {
     "data": {
      "text/plain": [
       "[2, 11, 19, 27, 30, 31, 45, 121]"
      ]
     },
     "execution_count": 24,
     "metadata": {},
     "output_type": "execute_result"
    }
   ],
   "source": [
    "insertion_sort([19,2,31,45,30,11,121,27])"
   ]
  },
  {
   "cell_type": "markdown",
   "metadata": {},
   "source": [
    "### Shell sort"
   ]
  },
  {
   "cell_type": "markdown",
   "metadata": {},
   "source": [
    "Shell sort involves sorting elements which are away from each other. We sort a large sublist of a given list and go on reducing the size of the list until all elements are sorted. The below program finds the gap by equating it to half of the length of the list size and then starts sorting all elements in it. Then we keep resetting the gap until the entire list is sorted."
   ]
  },
  {
   "cell_type": "code",
   "execution_count": 30,
   "metadata": {},
   "outputs": [],
   "source": [
    "def shell_sort(items):\n",
    "    gap = len(items)//2\n",
    "    \n",
    "    while gap > 0:\n",
    "        for i in range(gap,len(items)):\n",
    "            temp = items[i]\n",
    "            j = i\n",
    "            while j >= gap and items[j-gap] > temp:\n",
    "                items[j] = items[j-gap]\n",
    "                j = j-gap\n",
    "            items[j] = temp\n",
    "        gap = gap//2\n",
    "    return items"
   ]
  },
  {
   "cell_type": "code",
   "execution_count": 31,
   "metadata": {},
   "outputs": [
    {
     "data": {
      "text/plain": [
       "[2, 11, 19, 27, 30, 31, 45, 121]"
      ]
     },
     "execution_count": 31,
     "metadata": {},
     "output_type": "execute_result"
    }
   ],
   "source": [
    "shell_sort([19,2,31,45,30,11,121,27])"
   ]
  },
  {
   "cell_type": "markdown",
   "metadata": {},
   "source": [
    "### Selection sort"
   ]
  },
  {
   "cell_type": "markdown",
   "metadata": {},
   "source": [
    "In selection sort we start by findig the minimum value in a given list and move it to a sorted list. Then we repeat the process for each of the remaining elements in the unsorted lsit. The next element entering the sorted list is compared with the existing elements and placed at its correct position. So at the end all the elements from the unsorted list are sorted."
   ]
  },
  {
   "cell_type": "code",
   "execution_count": 34,
   "metadata": {},
   "outputs": [],
   "source": [
    "def selection_sort(items):\n",
    "    for i in range(len(items)):\n",
    "        minimum = i\n",
    "        for j in range(i+1,len(items)):\n",
    "            if items[minimum] > items[j]:\n",
    "                minimum = j\n",
    "        items[i],items[minimum] = items[minimum],items[i]\n",
    "    return items"
   ]
  },
  {
   "cell_type": "code",
   "execution_count": 35,
   "metadata": {},
   "outputs": [
    {
     "data": {
      "text/plain": [
       "[2, 11, 19, 27, 30, 31, 45, 121]"
      ]
     },
     "execution_count": 35,
     "metadata": {},
     "output_type": "execute_result"
    }
   ],
   "source": [
    "selection_sort([19,2,31,45,30,11,121,27])"
   ]
  },
  {
   "cell_type": "markdown",
   "metadata": {},
   "source": [
    "# Searching algorithms"
   ]
  },
  {
   "cell_type": "markdown",
   "metadata": {},
   "source": [
    "### Linear search"
   ]
  },
  {
   "cell_type": "markdown",
   "metadata": {},
   "source": [
    "Every item is checked and if a match is found then that particular item is returned, otherwise the search contimutes till the end of the data structue."
   ]
  },
  {
   "cell_type": "code",
   "execution_count": 7,
   "metadata": {},
   "outputs": [],
   "source": [
    "def linear_search(items, value):\n",
    "    result = False\n",
    "    c = 0\n",
    "    while c<len(items) and result == False:\n",
    "        if items[c] == value:\n",
    "            result = True\n",
    "            print(\"found in index: \",c)\n",
    "            break\n",
    "        else:\n",
    "            c += 1\n",
    "#             print(\"did not found in index: \",c)\n",
    "    \n",
    "    return result"
   ]
  },
  {
   "cell_type": "code",
   "execution_count": 8,
   "metadata": {},
   "outputs": [
    {
     "name": "stdout",
     "output_type": "stream",
     "text": [
      "found in index:  3\n",
      "True\n",
      "False\n"
     ]
    }
   ],
   "source": [
    "l = [64, 34, 25, 12, 22, 11, 90]\n",
    "print(linear_search(l, 12))\n",
    "print(linear_search(l, 91))"
   ]
  },
  {
   "cell_type": "markdown",
   "metadata": {},
   "source": [
    "### Interpolation search"
   ]
  },
  {
   "cell_type": "markdown",
   "metadata": {},
   "source": [
    "This search algorithm works on the probing position of the required value. for this algorithm to work properly, the data collection should be in a sorted form and equally distributed. Initially, the probe position is the poisition of the middle most itme of the collection.If a match occurs, then the index of the item is returned. If the middle item is greater than the item, then the probe position is again calculated in the sub-array to the right of the middle item. This process continues on the sub-array as well until the size of subarray reduces to zero."
   ]
  },
  {
   "cell_type": "code",
   "execution_count": 14,
   "metadata": {},
   "outputs": [],
   "source": [
    "def interpolation_search(items,value):\n",
    "    minimum = 0\n",
    "    maximum = len(items)-1\n",
    "    while minimum <= maximum and value >= items[minimum]  and value <= items[maximum]:\n",
    "        midpoint = int(minimum + (maximum - minimum)/(items[maximum] - items[minimum])*(value - items[minimum]))\n",
    "        \n",
    "        if items[midpoint] == value:\n",
    "            return \"Found \"+str(value)+\" at index \"+str(midpoint)\n",
    "        if items[midpoint] < value:\n",
    "            minimum = midpoint + 1\n",
    "    return \"Value not in items\""
   ]
  },
  {
   "cell_type": "code",
   "execution_count": 15,
   "metadata": {},
   "outputs": [
    {
     "name": "stdout",
     "output_type": "stream",
     "text": [
      "Found 2 at index 0\n"
     ]
    }
   ],
   "source": [
    "l = [2, 6, 11, 19, 27, 31, 45, 121]\n",
    "print(interpolation_search(l, 2))"
   ]
  },
  {
   "cell_type": "markdown",
   "metadata": {},
   "source": [
    "# Graph algorithms"
   ]
  },
  {
   "cell_type": "markdown",
   "metadata": {},
   "source": [
    "### Depth first traversal"
   ]
  },
  {
   "cell_type": "markdown",
   "metadata": {},
   "source": [
    "Also called depth first search (DFS), this algorithm traverses a graph in a depth ward motion and uses a stack to remember to get the next vertex to start a search, when a dead end occurs in any iteration. We implement DFS for a graph in python using the set data types as they provide teh required functinalities to keep track of visited and unvisited nodes."
   ]
  },
  {
   "cell_type": "code",
   "execution_count": 30,
   "metadata": {},
   "outputs": [
    {
     "name": "stdout",
     "output_type": "stream",
     "text": [
      "a\n",
      "b\n",
      "d\n",
      "e\n",
      "c\n"
     ]
    },
    {
     "data": {
      "text/plain": [
       "{'a', 'b', 'c', 'd', 'e'}"
      ]
     },
     "execution_count": 30,
     "metadata": {},
     "output_type": "execute_result"
    }
   ],
   "source": [
    "class graph:\n",
    "\n",
    "    def __init__(self,gdict = {}):\n",
    "        self.gdict = gdict\n",
    "\n",
    "def dfs(graph, start, visited = None):\n",
    "    if visited is None:\n",
    "        visited = set()\n",
    "    visited.add(start)\n",
    "    print(start)\n",
    "    for next in graph[start] - visited:\n",
    "        dfs(graph, next, visited)\n",
    "    return visited\n",
    "\n",
    "gdict = { \"a\" : set([\"b\",\"c\"]),\n",
    "                \"b\" : set([\"a\", \"d\"]),\n",
    "                \"c\" : set([\"a\", \"d\"]),\n",
    "                \"d\" : set([\"e\"]),\n",
    "                \"e\" : set([\"a\"])\n",
    "                }\n",
    "\n",
    "\n",
    "dfs(gdict, 'a')"
   ]
  },
  {
   "cell_type": "code",
   "execution_count": 31,
   "metadata": {},
   "outputs": [
    {
     "name": "stdout",
     "output_type": "stream",
     "text": [
      "<class 'dict'>\n"
     ]
    }
   ],
   "source": [
    "a = {}\n",
    "print(type(a))"
   ]
  },
  {
   "cell_type": "code",
   "execution_count": 32,
   "metadata": {},
   "outputs": [],
   "source": [
    "a = {'a','b','c'}\n",
    "b = set()\n",
    "b.add(\"c\")\n",
    "b.add(\"d\")"
   ]
  },
  {
   "cell_type": "code",
   "execution_count": 33,
   "metadata": {},
   "outputs": [
    {
     "data": {
      "text/plain": [
       "{'a', 'b'}"
      ]
     },
     "execution_count": 33,
     "metadata": {},
     "output_type": "execute_result"
    }
   ],
   "source": [
    "a-b"
   ]
  },
  {
   "cell_type": "code",
   "execution_count": 34,
   "metadata": {},
   "outputs": [],
   "source": [
    "c = {'c','d'}"
   ]
  },
  {
   "cell_type": "code",
   "execution_count": 35,
   "metadata": {},
   "outputs": [
    {
     "data": {
      "text/plain": [
       "{'a', 'b'}"
      ]
     },
     "execution_count": 35,
     "metadata": {},
     "output_type": "execute_result"
    }
   ],
   "source": [
    "a-c"
   ]
  },
  {
   "cell_type": "markdown",
   "metadata": {},
   "source": [
    "### Breadth first traversal"
   ]
  },
  {
   "cell_type": "markdown",
   "metadata": {},
   "source": [
    "Also called breadth first search (BFS), this algorithm traverses a graph breadth ward motion and uses a queue to remember to get the next vertex to start a search, when a dead end occurs in any iteration.\n",
    "\n",
    "We implement BFS for a graph in python using queue data struture. When we keep visiting the adjacent unvisited nodes and keep adding it to the quue. Then we start dequeqe only the node which is left with no unvisted nodes. We stop the program when there is no next adjacen tnode to be visited."
   ]
  },
  {
   "cell_type": "code",
   "execution_count": 1,
   "metadata": {},
   "outputs": [
    {
     "name": "stdout",
     "output_type": "stream",
     "text": [
      "a\n",
      "c\n",
      "b\n",
      "d\n",
      "e\n"
     ]
    }
   ],
   "source": [
    "import collections\n",
    "class graph:\n",
    "    def __init__(self,gdict=None):\n",
    "        if gdict is None:\n",
    "            gdict = {}\n",
    "        self.gdict = gdict\n",
    "\n",
    "def bfs(graph, startnode):\n",
    "# Track the visited and unvisited nodes using queue\n",
    "        seen, queue = set([startnode]), collections.deque([startnode])\n",
    "        while queue:\n",
    "            vertex = queue.popleft()\n",
    "            marked(vertex)\n",
    "            for node in graph[vertex]:\n",
    "                if node not in seen:\n",
    "                    seen.add(node)\n",
    "                    queue.append(node)\n",
    "\n",
    "def marked(n):\n",
    "    print(n)\n",
    "\n",
    "# The graph dictionary\n",
    "gdict = { \"a\" : set([\"b\",\"c\"]),\n",
    "                \"b\" : set([\"a\", \"d\"]),\n",
    "                \"c\" : set([\"a\", \"d\"]),\n",
    "                \"d\" : set([\"e\"]),\n",
    "                \"e\" : set([\"a\"])\n",
    "                }\n",
    "\n",
    "bfs(gdict, \"a\")"
   ]
  },
  {
   "cell_type": "code",
   "execution_count": null,
   "metadata": {},
   "outputs": [],
   "source": []
  }
 ],
 "metadata": {
  "kernelspec": {
   "display_name": "Python 3",
   "language": "python",
   "name": "python3"
  },
  "language_info": {
   "codemirror_mode": {
    "name": "ipython",
    "version": 3
   },
   "file_extension": ".py",
   "mimetype": "text/x-python",
   "name": "python",
   "nbconvert_exporter": "python",
   "pygments_lexer": "ipython3",
   "version": "3.7.3"
  }
 },
 "nbformat": 4,
 "nbformat_minor": 2
}
