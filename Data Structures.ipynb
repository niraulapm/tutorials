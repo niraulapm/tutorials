{
 "cells": [
  {
   "cell_type": "markdown",
   "metadata": {},
   "source": [
    "## Generals data structures"
   ]
  },
  {
   "cell_type": "markdown",
   "metadata": {},
   "source": [
    "Data structues are divided into two categories "
   ]
  },
  {
   "cell_type": "markdown",
   "metadata": {},
   "source": [
    "**Linear data structures:** These are the data structues which store the data elemments in a sequential manner."
   ]
  },
  {
   "cell_type": "markdown",
   "metadata": {},
   "source": [
    "* Array : It is a sequencial arrangement of data elements paired with the index of the data element."
   ]
  },
  {
   "cell_type": "markdown",
   "metadata": {},
   "source": [
    "* Linked list: Each data element contains a linke to another element along with the data present in it."
   ]
  },
  {
   "cell_type": "markdown",
   "metadata": {},
   "source": [
    "* Stack: It is a data structure which follows only to specific order of operation. LIFO (last in first out ) or FILO (first in last out)."
   ]
  },
  {
   "cell_type": "markdown",
   "metadata": {},
   "source": [
    "* Queue: It is simmilar to Stack but the order of operation is only FIFO (first in first out)."
   ]
  },
  {
   "cell_type": "markdown",
   "metadata": {},
   "source": [
    "* Matric: It is two dimensional data structure in which the data element is referred by a pair of indices."
   ]
  },
  {
   "cell_type": "markdown",
   "metadata": {},
   "source": [
    "**Non-linear data sctructures:** These are the data structures in which there is no sequential linking of data elements. Any pair or group of data elements can be linked to each other and can be accessed without a strict sequence."
   ]
  },
  {
   "cell_type": "markdown",
   "metadata": {},
   "source": [
    "* Binary Tree: It is a data structure where each data element can be connected to maximum two other data elements and it starts with a root node."
   ]
  },
  {
   "cell_type": "markdown",
   "metadata": {},
   "source": [
    "* Heap: It is a special case of Tree data structure where the data in the parent node is either strictly greater than/equal tothe child nodes or strictly less than it's child nodes."
   ]
  },
  {
   "cell_type": "markdown",
   "metadata": {},
   "source": [
    "* Hash Table: It is a data structure which is made of arrays assocciated with each other using a hash function. It retrives values using keys rather than index from a data element."
   ]
  },
  {
   "cell_type": "markdown",
   "metadata": {},
   "source": [
    "* Graph: It is a arrangement of vertices and nodes where some of the nodes are connected to each other through links."
   ]
  },
  {
   "cell_type": "markdown",
   "metadata": {},
   "source": [
    "**Python specific data structures:**"
   ]
  },
  {
   "cell_type": "markdown",
   "metadata": {},
   "source": [
    "* List: It is similar to array with the exception that the data elements can be of different types."
   ]
  },
  {
   "cell_type": "markdown",
   "metadata": {},
   "source": [
    "* Tuple: Tuples are similar to lists but they are immutable which means the values in a tuple cannot be modified they can only be read."
   ]
  },
  {
   "cell_type": "markdown",
   "metadata": {},
   "source": [
    "* Dictionary: The dictionary contains key-value pairs as its data elements."
   ]
  },
  {
   "cell_type": "markdown",
   "metadata": {},
   "source": [
    "# Arrays"
   ]
  },
  {
   "cell_type": "markdown",
   "metadata": {},
   "source": [
    "![](pics/array_representation.jpg)"
   ]
  },
  {
   "cell_type": "markdown",
   "metadata": {},
   "source": [
    "**Basic operations**:"
   ]
  },
  {
   "cell_type": "markdown",
   "metadata": {},
   "source": [
    "* Traverse: - Print all the array elements one by one.\n",
    "* Insertion: - Adds an element at the given index.\n",
    "* Deletion: - Deletes an element at the given index.\n",
    "* Search: - Searches an element using the given index or by the value.\n",
    "* Update: - Updates an element at the given index.\n"
   ]
  },
  {
   "cell_type": "code",
   "execution_count": 1,
   "metadata": {},
   "outputs": [
    {
     "name": "stdout",
     "output_type": "stream",
     "text": [
      "Print all the elements in the array\n",
      "10\n",
      "20\n",
      "30\n",
      "40\n",
      "50\n",
      "Access first and third elements of the array\n",
      "10\n",
      "30\n",
      "Insert new element 60 in indix 1\n",
      "10\n",
      "60\n",
      "20\n",
      "30\n",
      "40\n",
      "50\n",
      "Delement 40 form array\n",
      "10\n",
      "60\n",
      "20\n",
      "30\n",
      "50\n",
      "Search element 50 using python buildin index() method\n",
      " 50 is found in index number: 4\n",
      "Update element 50 by 0\n",
      "10\n",
      "60\n",
      "20\n",
      "30\n",
      "0\n"
     ]
    }
   ],
   "source": [
    "import array\n",
    "arrayName = array.array('i',[10,20,30,40,50])\n",
    "\n",
    "print(\"Print all the elements in the array\")\n",
    "for i in arrayName:\n",
    "    print(i)\n",
    "print(\"Access first and third elements of the array\")\n",
    "print(arrayName[0])\n",
    "print(arrayName[2])\n",
    "print(\"Insert new element 60 in indix 1\")\n",
    "arrayName.insert(1,60)\n",
    "for i in arrayName:\n",
    "    print(i)\n",
    "print(\"Delement 40 form array\")\n",
    "arrayName.remove(40)\n",
    "for i in arrayName:\n",
    "    print(i)\n",
    "print(\"Search element 50 using python buildin index() method\")\n",
    "print(\" 50 is found in index number:\",arrayName.index(50))\n",
    "print(\"Update element 50 by 0\")\n",
    "arrayName[4] = 0\n",
    "for i in arrayName:\n",
    "    print(i)"
   ]
  },
  {
   "cell_type": "markdown",
   "metadata": {},
   "source": [
    "**Note: index() method can be used to find the index of an element in the sequence.But if an element occured more than one time it returns the first index**"
   ]
  },
  {
   "cell_type": "code",
   "execution_count": 2,
   "metadata": {},
   "outputs": [
    {
     "name": "stdout",
     "output_type": "stream",
     "text": [
      "my list is :  [1, 2, 3, 43, 6, 7, 1, 2]\n",
      "1 is found in indices :  0\n",
      "43 is found in indices :  3\n"
     ]
    }
   ],
   "source": [
    "mylist = [1,2,3,43,6,7,1,2]\n",
    "print(\"my list is : \",mylist)\n",
    "print(\"1 is found in indices : \",mylist.index(1) )\n",
    "print(\"43 is found in indices : \",mylist.index(43) )"
   ]
  },
  {
   "cell_type": "markdown",
   "metadata": {},
   "source": [
    "# Sets"
   ]
  },
  {
   "cell_type": "markdown",
   "metadata": {},
   "source": [
    "### Adding element to Sets"
   ]
  },
  {
   "cell_type": "code",
   "execution_count": 3,
   "metadata": {},
   "outputs": [
    {
     "name": "stdout",
     "output_type": "stream",
     "text": [
      "{'Thurs', 'Tues', 'SUN', 'MON'}\n"
     ]
    }
   ],
   "source": [
    "Days = set([\"MON\",\"Tues\",'Thurs'])\n",
    "Days.add(\"SUN\")\n",
    "print(Days)"
   ]
  },
  {
   "cell_type": "markdown",
   "metadata": {},
   "source": [
    "### Removing element from sets"
   ]
  },
  {
   "cell_type": "code",
   "execution_count": 4,
   "metadata": {},
   "outputs": [
    {
     "name": "stdout",
     "output_type": "stream",
     "text": [
      "{'Thurs', 'Tues', 'MON'}\n"
     ]
    }
   ],
   "source": [
    "Days.discard(\"SUN\")\n",
    "print(Days)"
   ]
  },
  {
   "cell_type": "markdown",
   "metadata": {},
   "source": [
    "### Union, intersection, difference of sets"
   ]
  },
  {
   "cell_type": "code",
   "execution_count": 5,
   "metadata": {},
   "outputs": [
    {
     "name": "stdout",
     "output_type": "stream",
     "text": [
      "A unoion B is : A|B or A.union(B) {1, 2, 3, 34, 5, 676, 45}\n",
      "A intesection B is : A&B {1, 3}\n",
      "A diffrence B is : A-B {2, 34, 5}\n"
     ]
    }
   ],
   "source": [
    "set_A = set([1,2,3,34,5])\n",
    "set_B = set([1,3,45,676])\n",
    "print(\"A unoion B is : A|B or A.union(B)\",set_A|set_B)\n",
    "print(\"A intesection B is : A&B\",set_A&set_B)\n",
    "print(\"A diffrence B is : A-B\",set_A-set_B)\n"
   ]
  },
  {
   "cell_type": "markdown",
   "metadata": {},
   "source": [
    "### Check for subsets or supersets"
   ]
  },
  {
   "cell_type": "code",
   "execution_count": 6,
   "metadata": {},
   "outputs": [
    {
     "name": "stdout",
     "output_type": "stream",
     "text": [
      "False\n"
     ]
    }
   ],
   "source": [
    "set_A = set([1,2,3,34,5])\n",
    "set_B = set([1,3,45,676])\n",
    "print(set_A <= set_B)"
   ]
  },
  {
   "cell_type": "code",
   "execution_count": 7,
   "metadata": {},
   "outputs": [
    {
     "name": "stdout",
     "output_type": "stream",
     "text": [
      "True\n",
      "True\n"
     ]
    }
   ],
   "source": [
    "set_A = set([1,2,3])\n",
    "set_B = set([1,3])\n",
    "subsets = set_A >= set_B\n",
    "supersets = set_B <= set_A\n",
    "print(subsets)\n",
    "print(supersets)"
   ]
  },
  {
   "cell_type": "markdown",
   "metadata": {},
   "source": [
    "# Maps"
   ]
  },
  {
   "cell_type": "markdown",
   "metadata": {},
   "source": [
    "Python maps also called ChainMap is a type of data structure to manage multiple dictionaries together as one unit.\n",
    "The combined dictionary contains key and value pairs in a specific sequence eliminating any duplicate keys."
   ]
  },
  {
   "cell_type": "code",
   "execution_count": 8,
   "metadata": {},
   "outputs": [
    {
     "name": "stdout",
     "output_type": "stream",
     "text": [
      "ChainMap({'day1': 'Mon', 'day2': 'Tue'}, {'day3': 'Wed', 'day1': 'Thu'})\n"
     ]
    }
   ],
   "source": [
    "from collections import ChainMap\n",
    "\n",
    "dict_1 = {'day1':'Mon','day2':'Tue'}\n",
    "dict_2 = {'day3':'Wed','day1':'Thu'}\n",
    "\n",
    "res = ChainMap(dict_1,dict_2)\n",
    "print(res)"
   ]
  },
  {
   "cell_type": "code",
   "execution_count": 9,
   "metadata": {},
   "outputs": [
    {
     "name": "stdout",
     "output_type": "stream",
     "text": [
      "[{'day1': 'Mon', 'day2': 'Tue'}, {'day3': 'Wed', 'day1': 'Thu'}]\n"
     ]
    }
   ],
   "source": [
    "print(res.maps)"
   ]
  },
  {
   "cell_type": "code",
   "execution_count": 10,
   "metadata": {},
   "outputs": [
    {
     "name": "stdout",
     "output_type": "stream",
     "text": [
      "KeysView(ChainMap({'day1': 'Mon', 'day2': 'Tue'}, {'day3': 'Wed', 'day1': 'Thu'}))\n"
     ]
    }
   ],
   "source": [
    "print(res.keys())"
   ]
  },
  {
   "cell_type": "code",
   "execution_count": 11,
   "metadata": {},
   "outputs": [
    {
     "name": "stdout",
     "output_type": "stream",
     "text": [
      "Keys = ['day3', 'day1', 'day2']\n"
     ]
    }
   ],
   "source": [
    "print(\"Keys = {}\".format(list(res.keys())))"
   ]
  },
  {
   "cell_type": "code",
   "execution_count": 12,
   "metadata": {},
   "outputs": [
    {
     "name": "stdout",
     "output_type": "stream",
     "text": [
      "Values = ['Wed', 'Mon', 'Tue']\n"
     ]
    }
   ],
   "source": [
    "print(\"Values = {}\".format(list(res.values())))"
   ]
  },
  {
   "cell_type": "code",
   "execution_count": 13,
   "metadata": {},
   "outputs": [
    {
     "name": "stdout",
     "output_type": "stream",
     "text": [
      "day3 = Wed\n",
      "day1 = Mon\n",
      "day2 = Tue\n"
     ]
    }
   ],
   "source": [
    "for key, val in res.items():\n",
    "    print(\"{} = {}\".format(key,val))"
   ]
  },
  {
   "cell_type": "markdown",
   "metadata": {},
   "source": [
    "# Nodes "
   ]
  },
  {
   "cell_type": "markdown",
   "metadata": {},
   "source": [
    "There are situations when the allocation of memory to store the data cannot be in a continous block of memeory. So we take help of pointers where the along with the data, the address of the next location of data element is also store. So we know the address of the next data element from the values or current data element. In general such structures are known as pointers. But in python we refer them as Nodes.\n",
    "\n",
    "Nodes are the foundations on which various other data structures liked lists and trees can be handled in python."
   ]
  },
  {
   "cell_type": "markdown",
   "metadata": {},
   "source": [
    "**Creation of Nodes**"
   ]
  },
  {
   "cell_type": "markdown",
   "metadata": {},
   "source": [
    "The nodes aer created by implementing a class which will hold the pointers along with the data element. In the below example we create a class named daynames to hold the name of the weekdays. The nextval pointer is initialized to null and three nodes and initialized with values as shown."
   ]
  },
  {
   "cell_type": "code",
   "execution_count": 14,
   "metadata": {},
   "outputs": [],
   "source": [
    "class daynames:\n",
    "    def __init__(self,dataval=None):\n",
    "        self.dataval = dataval\n",
    "        self.nextval = None\n",
    "    \n",
    "    def __repr__(self):\n",
    "        return \"Day: {}, Next: ({})\".format(self.dataval,self.nextval)"
   ]
  },
  {
   "cell_type": "code",
   "execution_count": 15,
   "metadata": {},
   "outputs": [
    {
     "data": {
      "text/plain": [
       "Day: Mon, Next: (None)"
      ]
     },
     "execution_count": 15,
     "metadata": {},
     "output_type": "execute_result"
    }
   ],
   "source": [
    "e1 = daynames('Mon')\n",
    "e1"
   ]
  },
  {
   "cell_type": "code",
   "execution_count": 16,
   "metadata": {},
   "outputs": [],
   "source": [
    "e2 = daynames('Tue')\n",
    "e3 = daynames('Wed')"
   ]
  },
  {
   "cell_type": "code",
   "execution_count": 17,
   "metadata": {},
   "outputs": [],
   "source": [
    "e1.nextval = e2"
   ]
  },
  {
   "cell_type": "code",
   "execution_count": 18,
   "metadata": {},
   "outputs": [
    {
     "data": {
      "text/plain": [
       "Day: Mon, Next: (Day: Tue, Next: (None))"
      ]
     },
     "execution_count": 18,
     "metadata": {},
     "output_type": "execute_result"
    }
   ],
   "source": [
    "e1"
   ]
  },
  {
   "cell_type": "code",
   "execution_count": 19,
   "metadata": {},
   "outputs": [],
   "source": [
    "e2.nextval = e3"
   ]
  },
  {
   "cell_type": "code",
   "execution_count": 20,
   "metadata": {},
   "outputs": [
    {
     "data": {
      "text/plain": [
       "Day: Tue, Next: (Day: Wed, Next: (None))"
      ]
     },
     "execution_count": 20,
     "metadata": {},
     "output_type": "execute_result"
    }
   ],
   "source": [
    "e2"
   ]
  },
  {
   "cell_type": "code",
   "execution_count": 21,
   "metadata": {},
   "outputs": [
    {
     "data": {
      "text/plain": [
       "Day: Mon, Next: (Day: Tue, Next: (Day: Wed, Next: (None)))"
      ]
     },
     "execution_count": 21,
     "metadata": {},
     "output_type": "execute_result"
    }
   ],
   "source": [
    "e1"
   ]
  },
  {
   "cell_type": "markdown",
   "metadata": {},
   "source": [
    "**Traversing the Node elements**"
   ]
  },
  {
   "cell_type": "markdown",
   "metadata": {},
   "source": [
    "We can traverse the elements of the node created above by creating a variable and assigning the first element to it. Then we use a while loop and nextval pointer to print out all the node elements. Note that we have one more additional data element and the nextval pointers are properly arranged to get the output as a days of a week in a proper sequence."
   ]
  },
  {
   "cell_type": "code",
   "execution_count": 22,
   "metadata": {},
   "outputs": [],
   "source": [
    "class daynames:\n",
    "    def __init__(self, dataval=None):\n",
    "        self.dataval = dataval\n",
    "        self.nextval = None\n",
    "    def __repr__(self):\n",
    "        return \"Day: {}, Next: ({})\".format(self.dataval,self.nextval)\n",
    "\n",
    "e1 = daynames('Mon')\n",
    "e2 = daynames('Wed')\n",
    "e3 = daynames('Tue')\n",
    "e4 = daynames('Thu')\n",
    "\n",
    "e1.nextval = e3\n",
    "e3.nextval = e2\n",
    "e2.nextval = e4\n",
    "\n",
    "thisvalue = e1"
   ]
  },
  {
   "cell_type": "code",
   "execution_count": 23,
   "metadata": {},
   "outputs": [
    {
     "data": {
      "text/plain": [
       "Day: Mon, Next: (Day: Tue, Next: (Day: Wed, Next: (Day: Thu, Next: (None))))"
      ]
     },
     "execution_count": 23,
     "metadata": {},
     "output_type": "execute_result"
    }
   ],
   "source": [
    "thisvalue"
   ]
  },
  {
   "cell_type": "code",
   "execution_count": 24,
   "metadata": {},
   "outputs": [
    {
     "name": "stdout",
     "output_type": "stream",
     "text": [
      "Mon\n",
      "Tue\n",
      "Wed\n",
      "Thu\n"
     ]
    }
   ],
   "source": [
    "while thisvalue:\n",
    "    print(thisvalue.dataval)\n",
    "    thisvalue = thisvalue.nextval"
   ]
  },
  {
   "cell_type": "markdown",
   "metadata": {},
   "source": [
    "# Linked List"
   ]
  },
  {
   "cell_type": "markdown",
   "metadata": {},
   "source": [
    "A linked list is a sequenceo of data elements, which are connected together via links. Each data element contains a connection to another data element in form a pointer. "
   ]
  },
  {
   "cell_type": "code",
   "execution_count": 25,
   "metadata": {},
   "outputs": [],
   "source": [
    "class Node:\n",
    "    def __init__(self,dataval=None):\n",
    "        self.dataval = dataval\n",
    "        self.nextval = None\n",
    "    \n",
    "    def __repr__(self):\n",
    "        return \"Data: {}, Next: ({})\".format(self.dataval,self.nextval)"
   ]
  },
  {
   "cell_type": "code",
   "execution_count": 26,
   "metadata": {},
   "outputs": [],
   "source": [
    "class SlinkedList:\n",
    "    def __init__(self):\n",
    "        self.headval = None\n",
    "    \n",
    "    def __repr__(self):\n",
    "        return \"Head: {}\".format(self.headval)"
   ]
  },
  {
   "cell_type": "code",
   "execution_count": 27,
   "metadata": {},
   "outputs": [],
   "source": [
    "list1 = SlinkedList()"
   ]
  },
  {
   "cell_type": "code",
   "execution_count": 28,
   "metadata": {},
   "outputs": [
    {
     "data": {
      "text/plain": [
       "Head: None"
      ]
     },
     "execution_count": 28,
     "metadata": {},
     "output_type": "execute_result"
    }
   ],
   "source": [
    "list1"
   ]
  },
  {
   "cell_type": "code",
   "execution_count": 29,
   "metadata": {},
   "outputs": [],
   "source": [
    "list1.headval = Node('Mon')"
   ]
  },
  {
   "cell_type": "code",
   "execution_count": 30,
   "metadata": {},
   "outputs": [
    {
     "data": {
      "text/plain": [
       "Head: Data: Mon, Next: (None)"
      ]
     },
     "execution_count": 30,
     "metadata": {},
     "output_type": "execute_result"
    }
   ],
   "source": [
    "list1"
   ]
  },
  {
   "cell_type": "code",
   "execution_count": 31,
   "metadata": {},
   "outputs": [],
   "source": [
    "list1.headval.nextval = Node('Tue')"
   ]
  },
  {
   "cell_type": "code",
   "execution_count": 32,
   "metadata": {},
   "outputs": [
    {
     "data": {
      "text/plain": [
       "Head: Data: Mon, Next: (Data: Tue, Next: (None))"
      ]
     },
     "execution_count": 32,
     "metadata": {},
     "output_type": "execute_result"
    }
   ],
   "source": [
    "list1"
   ]
  },
  {
   "cell_type": "code",
   "execution_count": 33,
   "metadata": {},
   "outputs": [],
   "source": [
    "e1 = Node('Wed')"
   ]
  },
  {
   "cell_type": "code",
   "execution_count": 34,
   "metadata": {},
   "outputs": [],
   "source": [
    "e2 = Node('Thu')"
   ]
  },
  {
   "cell_type": "code",
   "execution_count": 35,
   "metadata": {},
   "outputs": [],
   "source": [
    "list1.headval.nextval = e1"
   ]
  },
  {
   "cell_type": "code",
   "execution_count": 36,
   "metadata": {},
   "outputs": [
    {
     "data": {
      "text/plain": [
       "Head: Data: Mon, Next: (Data: Wed, Next: (None))"
      ]
     },
     "execution_count": 36,
     "metadata": {},
     "output_type": "execute_result"
    }
   ],
   "source": [
    "list1"
   ]
  },
  {
   "cell_type": "code",
   "execution_count": 37,
   "metadata": {},
   "outputs": [],
   "source": [
    "e1.nextval = e2"
   ]
  },
  {
   "cell_type": "code",
   "execution_count": 38,
   "metadata": {},
   "outputs": [
    {
     "data": {
      "text/plain": [
       "Head: Data: Mon, Next: (Data: Wed, Next: (Data: Thu, Next: (None)))"
      ]
     },
     "execution_count": 38,
     "metadata": {},
     "output_type": "execute_result"
    }
   ],
   "source": [
    "list1"
   ]
  },
  {
   "cell_type": "markdown",
   "metadata": {},
   "source": [
    "### Traversing a linked list"
   ]
  },
  {
   "cell_type": "markdown",
   "metadata": {},
   "source": [
    "Singly linked lists can be traversed in only forward direction starting from the first data element. We simply print the value of the next data element by assigning the pointer of the next node to the current data element."
   ]
  },
  {
   "cell_type": "code",
   "execution_count": 39,
   "metadata": {},
   "outputs": [],
   "source": [
    "class Node:\n",
    "    def __init__(self, dataval = None):\n",
    "        self.dataval = dataval\n",
    "        self.nextval = None\n",
    "    \n",
    "class SlinkedList:\n",
    "    def __init__(self):\n",
    "        self.headval = None\n",
    "        \n",
    "    def listprint(self):\n",
    "        printval = self.headval\n",
    "        while printval:\n",
    "            print(printval.dataval)\n",
    "            printval = printval.nextval"
   ]
  },
  {
   "cell_type": "code",
   "execution_count": 40,
   "metadata": {},
   "outputs": [],
   "source": [
    "mylist = SlinkedList()\n",
    "e1 = Node('Mon')\n",
    "e2 = Node('Tue')\n",
    "e3 = Node('Wed')\n",
    "e4 = Node('Thu')"
   ]
  },
  {
   "cell_type": "code",
   "execution_count": 41,
   "metadata": {},
   "outputs": [],
   "source": [
    "mylist.headval = e1"
   ]
  },
  {
   "cell_type": "code",
   "execution_count": 42,
   "metadata": {},
   "outputs": [],
   "source": [
    "e1.nextval = e2"
   ]
  },
  {
   "cell_type": "code",
   "execution_count": 43,
   "metadata": {},
   "outputs": [],
   "source": [
    "e2.nextval = e3"
   ]
  },
  {
   "cell_type": "code",
   "execution_count": 44,
   "metadata": {},
   "outputs": [],
   "source": [
    "e3.nextval = e4"
   ]
  },
  {
   "cell_type": "code",
   "execution_count": 45,
   "metadata": {},
   "outputs": [
    {
     "name": "stdout",
     "output_type": "stream",
     "text": [
      "Mon\n",
      "Tue\n",
      "Wed\n",
      "Thu\n"
     ]
    }
   ],
   "source": [
    "mylist.listprint()"
   ]
  },
  {
   "cell_type": "markdown",
   "metadata": {},
   "source": [
    "### Insertion in a linked list"
   ]
  },
  {
   "cell_type": "markdown",
   "metadata": {},
   "source": [
    "**Inserting at the beginning of the linked list**"
   ]
  },
  {
   "cell_type": "markdown",
   "metadata": {},
   "source": [
    "This involves pointing the next pointer of the new data node to the current head of the linked list. So the current head of the linked list becomes the second data element and the new node becomes the head of the linked list."
   ]
  },
  {
   "cell_type": "code",
   "execution_count": 46,
   "metadata": {},
   "outputs": [],
   "source": [
    "class Node:\n",
    "    def __init__(self,dataval = None):\n",
    "        self.dataval = dataval\n",
    "        self.nextval = None\n",
    "class SlinkedList:\n",
    "    def __init__(self):\n",
    "        self.headval = None\n",
    "    \n",
    "    def listprint(self):\n",
    "        printval = self.headval\n",
    "        while printval:\n",
    "            print(printval.dataval)\n",
    "            printval = printval.nextval\n",
    "    def insert_at_beginning(self,newNode):\n",
    "        newNode.nextval = self.headval\n",
    "        self.headval = newNode"
   ]
  },
  {
   "cell_type": "code",
   "execution_count": 47,
   "metadata": {},
   "outputs": [],
   "source": [
    "mylist = SlinkedList()\n",
    "e1 = Node('Mon')\n",
    "e2 = Node('Tue')\n",
    "e3 = Node('Wed')\n",
    "e4 = Node('Thu')"
   ]
  },
  {
   "cell_type": "code",
   "execution_count": 48,
   "metadata": {},
   "outputs": [],
   "source": [
    "mylist.headval = e1"
   ]
  },
  {
   "cell_type": "code",
   "execution_count": 49,
   "metadata": {},
   "outputs": [],
   "source": [
    "e1.nextval = e2"
   ]
  },
  {
   "cell_type": "code",
   "execution_count": 50,
   "metadata": {},
   "outputs": [],
   "source": [
    "e2.nextval = e3"
   ]
  },
  {
   "cell_type": "code",
   "execution_count": 51,
   "metadata": {},
   "outputs": [
    {
     "name": "stdout",
     "output_type": "stream",
     "text": [
      "Mon\n",
      "Tue\n",
      "Wed\n"
     ]
    }
   ],
   "source": [
    "mylist.listprint()"
   ]
  },
  {
   "cell_type": "code",
   "execution_count": 52,
   "metadata": {},
   "outputs": [],
   "source": [
    "mylist.insert_at_beginning(e4)"
   ]
  },
  {
   "cell_type": "code",
   "execution_count": 53,
   "metadata": {},
   "outputs": [
    {
     "name": "stdout",
     "output_type": "stream",
     "text": [
      "Thu\n",
      "Mon\n",
      "Tue\n",
      "Wed\n"
     ]
    }
   ],
   "source": [
    "mylist.listprint()"
   ]
  },
  {
   "cell_type": "markdown",
   "metadata": {},
   "source": [
    "**Inserting at the End of the linked list**"
   ]
  },
  {
   "cell_type": "markdown",
   "metadata": {},
   "source": [
    "This involves pointing the next pointer of the current last node of the linked list to the new data node. So the current last node of the linked list becomes the second last data node and the new node becomes the last node of the linked list."
   ]
  },
  {
   "cell_type": "code",
   "execution_count": 54,
   "metadata": {},
   "outputs": [],
   "source": [
    "class Node:\n",
    "    def __init__(self, dataval = None):\n",
    "        self.dataval = dataval\n",
    "        self.nextval = None\n",
    "\n",
    "class SlinkedList:\n",
    "    def __init__(self):\n",
    "        self.headval = None\n",
    "        \n",
    "    def listprint(self):\n",
    "        printval = self.headval\n",
    "        while printval:\n",
    "            print(printval.dataval)\n",
    "            printval = printval.nextval\n",
    "    def insert_at_ending(self,newNode):\n",
    "        lastval = self.headval\n",
    "        while lastval.nextval:\n",
    "            lastval = lastval.nextval\n",
    "        lastval.nextval = newNode"
   ]
  },
  {
   "cell_type": "code",
   "execution_count": 55,
   "metadata": {},
   "outputs": [],
   "source": [
    "mylist = SlinkedList()\n",
    "e1 = Node('Mon')\n",
    "e2 = Node('Tue')\n",
    "e3 = Node('Wed')\n",
    "e4 = Node('Thu')\n",
    "mylist.headval = e1\n",
    "e1.nextval = e2\n",
    "e2.nextval = e3"
   ]
  },
  {
   "cell_type": "code",
   "execution_count": 56,
   "metadata": {},
   "outputs": [
    {
     "name": "stdout",
     "output_type": "stream",
     "text": [
      "Mon\n",
      "Tue\n",
      "Wed\n"
     ]
    }
   ],
   "source": [
    "mylist.listprint()"
   ]
  },
  {
   "cell_type": "code",
   "execution_count": 57,
   "metadata": {},
   "outputs": [],
   "source": [
    "mylist.insert_at_ending(e4)"
   ]
  },
  {
   "cell_type": "code",
   "execution_count": 58,
   "metadata": {},
   "outputs": [
    {
     "name": "stdout",
     "output_type": "stream",
     "text": [
      "Mon\n",
      "Tue\n",
      "Wed\n",
      "Thu\n"
     ]
    }
   ],
   "source": [
    "mylist.listprint()"
   ]
  },
  {
   "cell_type": "markdown",
   "metadata": {},
   "source": [
    "**Inserting in between two Data Nodes**"
   ]
  },
  {
   "cell_type": "markdown",
   "metadata": {},
   "source": [
    "It involves changing the pointer of a specific node to point to the new node. That is possible by passing in both the new node and the exiting node after which the new node will be inserted. So we define an additional class which will change the next pointer of the new node to the next pointer of middle node. Then assign the new node to next pointer of the middle node."
   ]
  },
  {
   "cell_type": "code",
   "execution_count": 59,
   "metadata": {},
   "outputs": [],
   "source": [
    "class Node:\n",
    "    def __init__(self,dataval = None):\n",
    "        self.dataval = dataval\n",
    "        self.nextval = None\n",
    "class SlinkedList:\n",
    "    def __init__(self):\n",
    "        self.headval = None\n",
    "        \n",
    "    def listprint(self):\n",
    "        printval = self.headval\n",
    "        while printval:\n",
    "            print(printval.dataval)\n",
    "            printval = printval.nextval\n",
    "    def insert_at_middle(self,middleNode,newNode):\n",
    "        if middleNode is None:\n",
    "            print(\"The mentioned node is absent\")\n",
    "        newNode.nextval = middleNode.nextval\n",
    "        middleNode.nextval = newNode"
   ]
  },
  {
   "cell_type": "code",
   "execution_count": 60,
   "metadata": {},
   "outputs": [],
   "source": [
    "mylist = SlinkedList()\n",
    "e1 = Node('Mon')\n",
    "e2 = Node('Tue')\n",
    "e3 = Node('Wed')\n",
    "e4 = Node('Thu')\n",
    "mylist.headval = e1\n",
    "e1.nextval = e2\n"
   ]
  },
  {
   "cell_type": "code",
   "execution_count": 61,
   "metadata": {},
   "outputs": [
    {
     "name": "stdout",
     "output_type": "stream",
     "text": [
      "Mon\n",
      "Tue\n"
     ]
    }
   ],
   "source": [
    "mylist.listprint()"
   ]
  },
  {
   "cell_type": "code",
   "execution_count": 62,
   "metadata": {},
   "outputs": [],
   "source": [
    "mylist.insert_at_middle(e1,e3)"
   ]
  },
  {
   "cell_type": "code",
   "execution_count": 63,
   "metadata": {},
   "outputs": [
    {
     "name": "stdout",
     "output_type": "stream",
     "text": [
      "Mon\n",
      "Wed\n",
      "Tue\n"
     ]
    }
   ],
   "source": [
    "mylist.listprint()"
   ]
  },
  {
   "cell_type": "markdown",
   "metadata": {},
   "source": [
    "### Removing an item from a linked list"
   ]
  },
  {
   "cell_type": "markdown",
   "metadata": {},
   "source": [
    "We can remove an existing node using the key for that node. In the below program we locate the previous node of the node which is to be deleted. Then point the next pointer of this node to the next node of the node to be deleted"
   ]
  },
  {
   "cell_type": "code",
   "execution_count": 64,
   "metadata": {},
   "outputs": [],
   "source": [
    "class Node:\n",
    "    def __init__(self,dataval = None):\n",
    "        self.dataval = dataval\n",
    "        self.nextval = None\n",
    "class SlinkedList:\n",
    "    def __init__(self):\n",
    "        self.headval = None\n",
    "    \n",
    "    def listprint(self):\n",
    "        printval = self.headval\n",
    "        while printval:\n",
    "            print(printval.dataval)\n",
    "            printval = printval.nextval\n",
    "            \n",
    "    def insert_at_beginning(self,newNode):\n",
    "        newNode = Node(newNode)\n",
    "        newNode.nextval = self.headval\n",
    "        self.headval = newNode\n",
    "    \n",
    "    def remove_node(self, remove_key):\n",
    "        headval = self.headval\n",
    "        \n",
    "        if headval:\n",
    "            if headval.dataval == remove_key:\n",
    "                self.headval = headval.next\n",
    "                headval = None\n",
    "                return\n",
    "            \n",
    "        while headval:\n",
    "            if headval.dataval == remove_key:\n",
    "                break\n",
    "            prev = headval\n",
    "            headval = headval.nextval\n",
    "            \n",
    "        if headval == None:\n",
    "            return\n",
    "        prev.nextval = headval.nextval\n",
    "            \n",
    "        headval = None\n",
    "        "
   ]
  },
  {
   "cell_type": "code",
   "execution_count": 65,
   "metadata": {},
   "outputs": [
    {
     "name": "stdout",
     "output_type": "stream",
     "text": [
      "Thu\n",
      "Wed\n",
      "Tue\n",
      "Mon\n"
     ]
    }
   ],
   "source": [
    "mylist = SlinkedList()\n",
    "mylist.insert_at_beginning('Mon')\n",
    "mylist.insert_at_beginning('Tue')\n",
    "mylist.insert_at_beginning('Wed')\n",
    "mylist.insert_at_beginning('Thu')\n",
    "mylist.listprint()"
   ]
  },
  {
   "cell_type": "code",
   "execution_count": 66,
   "metadata": {},
   "outputs": [],
   "source": [
    "mylist.remove_node('Tue')"
   ]
  },
  {
   "cell_type": "code",
   "execution_count": 67,
   "metadata": {},
   "outputs": [
    {
     "name": "stdout",
     "output_type": "stream",
     "text": [
      "Thu\n",
      "Wed\n",
      "Mon\n"
     ]
    }
   ],
   "source": [
    "mylist.listprint()"
   ]
  },
  {
   "cell_type": "markdown",
   "metadata": {},
   "source": [
    "# Advanced linked list (doubly linked list)"
   ]
  },
  {
   "cell_type": "markdown",
   "metadata": {},
   "source": [
    "**Features of doubly linked list**"
   ]
  },
  {
   "cell_type": "markdown",
   "metadata": {},
   "source": [
    "* Contains a link element called first and last.\n",
    "* Each link carries a data and tow links called next and prev\n",
    "* Each link is linked with its next link using its next link\n",
    "* Eack link is linked with its previous link using its prev link\n",
    "* The last link carries a link as null to mark the end of the list"
   ]
  },
  {
   "cell_type": "markdown",
   "metadata": {},
   "source": [
    "### Creating doubly linked list"
   ]
  },
  {
   "cell_type": "code",
   "execution_count": 68,
   "metadata": {},
   "outputs": [],
   "source": [
    "class Node:\n",
    "    def __init__(self,data = None):\n",
    "        self.data = data\n",
    "        self.next = None\n",
    "        self.prev = None\n",
    "        \n",
    "class DlinkedList:\n",
    "    def __init__(self):\n",
    "        self.head = None\n",
    "    \n",
    "    def push(self,new_val):\n",
    "        new_node = Node(new_val)\n",
    "        new_node.next = self.head\n",
    "        if self.head:\n",
    "            self.head.prev = new_node\n",
    "        self.head = new_node\n",
    "        \n",
    "    def insert(self, prev_node, NewVal):\n",
    "        if prev_node is None:\n",
    "            return\n",
    "        NewNode = Node(NewVal)\n",
    "        NewNode.next = prev_node.next\n",
    "        prev_node.next = NewNode\n",
    "        NewNode.prev = prev_node\n",
    "        if NewNode.next is not None:\n",
    "            NewNode.next.prev = NewNode\n",
    "\n",
    "        \n",
    "    def listprint(self):\n",
    "        printval = self.head\n",
    "        while printval:\n",
    "            print(printval.data)\n",
    "            printval = printval.next\n"
   ]
  },
  {
   "cell_type": "code",
   "execution_count": 69,
   "metadata": {},
   "outputs": [],
   "source": [
    "my_list = DlinkedList()\n",
    "my_list.push(12)\n",
    "my_list.push(8)\n",
    "my_list.push(62)"
   ]
  },
  {
   "cell_type": "code",
   "execution_count": 70,
   "metadata": {},
   "outputs": [
    {
     "name": "stdout",
     "output_type": "stream",
     "text": [
      "62\n",
      "8\n",
      "12\n"
     ]
    }
   ],
   "source": [
    "my_list.listprint()"
   ]
  },
  {
   "cell_type": "code",
   "execution_count": 71,
   "metadata": {},
   "outputs": [],
   "source": [
    "my_list.insert(my_list.head.next,13)"
   ]
  },
  {
   "cell_type": "code",
   "execution_count": 72,
   "metadata": {},
   "outputs": [
    {
     "name": "stdout",
     "output_type": "stream",
     "text": [
      "62\n",
      "8\n",
      "13\n",
      "12\n"
     ]
    }
   ],
   "source": [
    "my_list.listprint()"
   ]
  },
  {
   "cell_type": "markdown",
   "metadata": {},
   "source": [
    "### Appending a doubly linked list"
   ]
  },
  {
   "cell_type": "code",
   "execution_count": 73,
   "metadata": {},
   "outputs": [],
   "source": [
    "class Node:\n",
    "    def __init__(self,data = None):\n",
    "        self.data = data\n",
    "        self.next = None\n",
    "        self.prev = None\n",
    "        \n",
    "class DlinkedList:\n",
    "    def __init__(self):\n",
    "        self.head = None\n",
    "    \n",
    "    def push(self,new_val):\n",
    "        new_node = Node(new_val)\n",
    "        new_node.next = self.head\n",
    "        if self.head:\n",
    "            self.head.prev = new_node\n",
    "        self.head = new_node\n",
    "        \n",
    "    def append(self,new_val):\n",
    "        new_node = Node(new_val)\n",
    "        new_node.next = None\n",
    "        \n",
    "        if self.head is None:\n",
    "            new_node.prev = None\n",
    "            self.head = new_node\n",
    "            return\n",
    "        \n",
    "        last = self.head\n",
    "        \n",
    "        while last.next:\n",
    "            last = last.next\n",
    "        last.next = new_node\n",
    "        new_node.prev = last\n",
    "        return\n",
    "        \n",
    "    def listprint(self):\n",
    "        printval = self.head\n",
    "        while printval:\n",
    "            print(printval.data)\n",
    "            printval = printval.next\n"
   ]
  },
  {
   "cell_type": "code",
   "execution_count": 74,
   "metadata": {},
   "outputs": [],
   "source": [
    "my_list = DlinkedList()\n",
    "my_list.push(12)\n",
    "my_list.push(8)\n",
    "my_list.push(62)"
   ]
  },
  {
   "cell_type": "code",
   "execution_count": 75,
   "metadata": {},
   "outputs": [
    {
     "name": "stdout",
     "output_type": "stream",
     "text": [
      "62\n",
      "8\n",
      "12\n"
     ]
    }
   ],
   "source": [
    "my_list.listprint()"
   ]
  },
  {
   "cell_type": "code",
   "execution_count": 76,
   "metadata": {},
   "outputs": [],
   "source": [
    "my_list.append(45)"
   ]
  },
  {
   "cell_type": "code",
   "execution_count": 77,
   "metadata": {},
   "outputs": [
    {
     "name": "stdout",
     "output_type": "stream",
     "text": [
      "62\n",
      "8\n",
      "12\n",
      "45\n"
     ]
    }
   ],
   "source": [
    "my_list.listprint()"
   ]
  },
  {
   "cell_type": "markdown",
   "metadata": {},
   "source": [
    "# Stack"
   ]
  },
  {
   "cell_type": "markdown",
   "metadata": {},
   "source": [
    "In english dictionary the word stack means arranging objects one over another. It is the same way memory is allocated in this data structure. It stores teh data elements in a similar fashion as a bunch of plates are stored one above anotehr in the kitchen. so stack data structure allows operations at one end which can be called top of the stack. We can add element or remove elements only from this end of the stack.\n",
    "\n",
    "In a stack the element inserted last in sequence will come out first as we can remove only from the top of the stack. Such feature is known as Last in First Out (LIFO) feature. The operations of adding and removing the elements is known as **PUSH** and **POP**. "
   ]
  },
  {
   "cell_type": "markdown",
   "metadata": {},
   "source": [
    "### Push into a stack"
   ]
  },
  {
   "cell_type": "code",
   "execution_count": 78,
   "metadata": {},
   "outputs": [],
   "source": [
    "class Stack:\n",
    "    def __init__(self):\n",
    "        self.stack = []\n",
    "    \n",
    "    def add(self,data):\n",
    "        if data not in self.stack:\n",
    "            self.stack.append(data)\n",
    "    \n",
    "    def peek(self):\n",
    "        return self.stack[-1]"
   ]
  },
  {
   "cell_type": "code",
   "execution_count": 79,
   "metadata": {},
   "outputs": [
    {
     "data": {
      "text/plain": [
       "'Tue'"
      ]
     },
     "execution_count": 79,
     "metadata": {},
     "output_type": "execute_result"
    }
   ],
   "source": [
    "my_stack = Stack()\n",
    "my_stack.add(\"Mon\")\n",
    "my_stack.add(\"Tue\")\n",
    "my_stack.peek()"
   ]
  },
  {
   "cell_type": "code",
   "execution_count": 80,
   "metadata": {},
   "outputs": [
    {
     "data": {
      "text/plain": [
       "'Thu'"
      ]
     },
     "execution_count": 80,
     "metadata": {},
     "output_type": "execute_result"
    }
   ],
   "source": [
    "my_stack.add(\"Wed\")\n",
    "my_stack.add(\"Thu\")\n",
    "my_stack.peek()"
   ]
  },
  {
   "cell_type": "markdown",
   "metadata": {},
   "source": [
    "### Pop from stack"
   ]
  },
  {
   "cell_type": "code",
   "execution_count": 81,
   "metadata": {},
   "outputs": [],
   "source": [
    "class Stack:\n",
    "    def __init__(self):\n",
    "        self.stack = []\n",
    "    \n",
    "    def add(self,data):\n",
    "        if data not in self.stack:\n",
    "            self.stack.append(data)\n",
    "        \n",
    "    def peek(self):\n",
    "        return self.stack[-1]\n",
    "    \n",
    "    def remove(self):\n",
    "        if len(self.stack) <= 0:\n",
    "            print(\"No stack exits.\")\n",
    "        else:\n",
    "            self.stack.pop()"
   ]
  },
  {
   "cell_type": "code",
   "execution_count": 82,
   "metadata": {},
   "outputs": [
    {
     "data": {
      "text/plain": [
       "'Tue'"
      ]
     },
     "execution_count": 82,
     "metadata": {},
     "output_type": "execute_result"
    }
   ],
   "source": [
    "my_stack = Stack()\n",
    "my_stack.add(\"Mon\")\n",
    "my_stack.add(\"Tue\")\n",
    "my_stack.peek()"
   ]
  },
  {
   "cell_type": "code",
   "execution_count": 83,
   "metadata": {},
   "outputs": [],
   "source": [
    "my_stack.remove()"
   ]
  },
  {
   "cell_type": "code",
   "execution_count": 84,
   "metadata": {},
   "outputs": [
    {
     "data": {
      "text/plain": [
       "'Mon'"
      ]
     },
     "execution_count": 84,
     "metadata": {},
     "output_type": "execute_result"
    }
   ],
   "source": [
    "my_stack.peek()"
   ]
  },
  {
   "cell_type": "markdown",
   "metadata": {},
   "source": [
    "**How inbuild pop function works**"
   ]
  },
  {
   "cell_type": "code",
   "execution_count": 85,
   "metadata": {},
   "outputs": [],
   "source": [
    "a = [1,2,3]"
   ]
  },
  {
   "cell_type": "code",
   "execution_count": 86,
   "metadata": {},
   "outputs": [
    {
     "data": {
      "text/plain": [
       "3"
      ]
     },
     "execution_count": 86,
     "metadata": {},
     "output_type": "execute_result"
    }
   ],
   "source": [
    "a.pop()"
   ]
  },
  {
   "cell_type": "code",
   "execution_count": 87,
   "metadata": {},
   "outputs": [
    {
     "data": {
      "text/plain": [
       "[1, 2]"
      ]
     },
     "execution_count": 87,
     "metadata": {},
     "output_type": "execute_result"
    }
   ],
   "source": [
    "a"
   ]
  },
  {
   "cell_type": "markdown",
   "metadata": {},
   "source": [
    "# Queue"
   ]
  },
  {
   "cell_type": "markdown",
   "metadata": {},
   "source": [
    "The queue data structure means the data elements are arranged in a queue. The uniqueness of queue lies in the way items are added and removed. The  items are allowed at on end but removd from the other end. So it is a First-in-First out method. An queue can be implemented using python list where we can use the insert() and pop methods to add and remove elements. There is no insertiion as data elements are always added at the end of the queue."
   ]
  },
  {
   "cell_type": "markdown",
   "metadata": {},
   "source": [
    "### adding element in queue"
   ]
  },
  {
   "cell_type": "code",
   "execution_count": 88,
   "metadata": {},
   "outputs": [],
   "source": [
    "class Queue:\n",
    "    def __init__(self):\n",
    "        self.queue = []\n",
    "    \n",
    "    def add(self,data):\n",
    "        if data not in self.queue:\n",
    "            self.queue.insert(0,data)\n",
    "    def size(self):\n",
    "        return len(self.queue)"
   ]
  },
  {
   "cell_type": "code",
   "execution_count": 89,
   "metadata": {},
   "outputs": [
    {
     "data": {
      "text/plain": [
       "3"
      ]
     },
     "execution_count": 89,
     "metadata": {},
     "output_type": "execute_result"
    }
   ],
   "source": [
    "my_queue = Queue()\n",
    "my_queue.add(\"Mon\")\n",
    "my_queue.add(\"Tue\")\n",
    "my_queue.add(\"Wed\")\n",
    "my_queue.size()"
   ]
  },
  {
   "cell_type": "markdown",
   "metadata": {},
   "source": [
    "### Removing element from queue"
   ]
  },
  {
   "cell_type": "code",
   "execution_count": 90,
   "metadata": {},
   "outputs": [],
   "source": [
    "class Queue:\n",
    "    def __init__(self):\n",
    "        self.queue = []\n",
    "    \n",
    "    def add(self,data):\n",
    "        if data not in self.queue:\n",
    "            self.queue.insert(0,data)\n",
    "    def remove(self):\n",
    "        self.queue.pop()\n",
    "        \n",
    "    def size(self):\n",
    "        return len(self.queue)\n",
    "    \n",
    "    def __repr__(self):\n",
    "        return \"Queue([{}])\".format(\",\".join(self.queue))\n",
    "        "
   ]
  },
  {
   "cell_type": "code",
   "execution_count": 91,
   "metadata": {},
   "outputs": [
    {
     "data": {
      "text/plain": [
       "3"
      ]
     },
     "execution_count": 91,
     "metadata": {},
     "output_type": "execute_result"
    }
   ],
   "source": [
    "my_queue = Queue()\n",
    "my_queue.add(\"Mon\")\n",
    "my_queue.add(\"Tue\")\n",
    "my_queue.add(\"Wed\")\n",
    "my_queue.size()"
   ]
  },
  {
   "cell_type": "code",
   "execution_count": 92,
   "metadata": {},
   "outputs": [
    {
     "data": {
      "text/plain": [
       "Queue([Wed,Tue,Mon])"
      ]
     },
     "execution_count": 92,
     "metadata": {},
     "output_type": "execute_result"
    }
   ],
   "source": [
    "my_queue"
   ]
  },
  {
   "cell_type": "code",
   "execution_count": 93,
   "metadata": {},
   "outputs": [],
   "source": [
    "my_queue.remove()"
   ]
  },
  {
   "cell_type": "code",
   "execution_count": 94,
   "metadata": {},
   "outputs": [
    {
     "data": {
      "text/plain": [
       "2"
      ]
     },
     "execution_count": 94,
     "metadata": {},
     "output_type": "execute_result"
    }
   ],
   "source": [
    "my_queue.size()"
   ]
  },
  {
   "cell_type": "code",
   "execution_count": 95,
   "metadata": {},
   "outputs": [
    {
     "data": {
      "text/plain": [
       "Queue([Wed,Tue])"
      ]
     },
     "execution_count": 95,
     "metadata": {},
     "output_type": "execute_result"
    }
   ],
   "source": [
    "my_queue"
   ]
  },
  {
   "cell_type": "markdown",
   "metadata": {},
   "source": [
    "# Dequeue"
   ]
  },
  {
   "cell_type": "markdown",
   "metadata": {},
   "source": [
    "A double-ended queue or dequeue supports adding and removing elements from either end. The more commonly used stacks and queue are degenerate of deques, where the inputs and outputs are restricted to a single end."
   ]
  },
  {
   "cell_type": "code",
   "execution_count": 96,
   "metadata": {},
   "outputs": [
    {
     "data": {
      "text/plain": [
       "deque(['Sun', 'Mon', 'Tue', 'Wed', 'Thu'])"
      ]
     },
     "execution_count": 96,
     "metadata": {},
     "output_type": "execute_result"
    }
   ],
   "source": [
    "from collections import deque\n",
    "\n",
    "my_deque = deque([\"Mon\",\"Tue\",\"Wed\"])\n",
    "my_deque.append(\"Thu\")\n",
    "my_deque.appendleft(\"Sun\")\n",
    "my_deque"
   ]
  },
  {
   "cell_type": "code",
   "execution_count": 97,
   "metadata": {},
   "outputs": [
    {
     "data": {
      "text/plain": [
       "deque(['Sun', 'Mon', 'Tue', 'Wed'])"
      ]
     },
     "execution_count": 97,
     "metadata": {},
     "output_type": "execute_result"
    }
   ],
   "source": [
    "my_deque.pop()\n",
    "my_deque"
   ]
  },
  {
   "cell_type": "code",
   "execution_count": 98,
   "metadata": {},
   "outputs": [
    {
     "data": {
      "text/plain": [
       "'Sun'"
      ]
     },
     "execution_count": 98,
     "metadata": {},
     "output_type": "execute_result"
    }
   ],
   "source": [
    "my_deque.popleft()"
   ]
  },
  {
   "cell_type": "code",
   "execution_count": 99,
   "metadata": {},
   "outputs": [
    {
     "data": {
      "text/plain": [
       "deque(['Mon', 'Tue', 'Wed'])"
      ]
     },
     "execution_count": 99,
     "metadata": {},
     "output_type": "execute_result"
    }
   ],
   "source": [
    "my_deque"
   ]
  },
  {
   "cell_type": "markdown",
   "metadata": {},
   "source": [
    "# Hash Table"
   ]
  },
  {
   "cell_type": "markdown",
   "metadata": {},
   "source": [
    "Hash tables are a type of data structure in which the address or the index value of the data element is generated from a hash function. That makes accessing the data faster as the index value behaves as a key for the data value. In other words, Hash tables stores key-value pairs but the key is generated through a hasing function.\n",
    "\n",
    "So, the search and insertion function of a data element becomes much faster as the key values themselves become the index of the array which stores the data.\n",
    "\n",
    "In python, the dictionary data types represent the implementation of hash tables. The keys in the dictionary satisfy the following requirements.\n",
    "\n",
    "* The keys of the dictionary are hashable. i.e. the age generated by hashing function which generates unique result for each unique value supplied to the hash function.\n",
    "\n",
    "* The order of data elements in a dictionary is not fixed.\n",
    "\n",
    "We implement hash table by using dictionary data types."
   ]
  },
  {
   "cell_type": "markdown",
   "metadata": {},
   "source": [
    "# Binary Tree"
   ]
  },
  {
   "cell_type": "markdown",
   "metadata": {},
   "source": [
    "Tree represents the nodes connected by edges. It is a non-linear data structure. It has the following properties.\n",
    "\n",
    "* One node is marked as root node.\n",
    "* Every node other than the root is associated withone parent node.\n",
    "* Each node can have an arbitrary number of child node.\n",
    "\n",
    "we create a tree data structure in python by using the concept of node. We designate one node as root node and then add more nodes as child nodes."
   ]
  },
  {
   "cell_type": "markdown",
   "metadata": {},
   "source": [
    "### Create root"
   ]
  },
  {
   "cell_type": "code",
   "execution_count": 100,
   "metadata": {},
   "outputs": [],
   "source": [
    "class Tree:\n",
    "    def __init__(self,node):\n",
    "        self.node = node\n",
    "        self.right = None\n",
    "        self.left = None\n",
    "        \n",
    "    def __repr__(self):\n",
    "        return \"Tree (Node: {},Right: {},Left: {})\".format(self.node,self.right,self.left)\n",
    "        "
   ]
  },
  {
   "cell_type": "code",
   "execution_count": 101,
   "metadata": {},
   "outputs": [],
   "source": [
    "my_tree = Tree(10)"
   ]
  },
  {
   "cell_type": "code",
   "execution_count": 102,
   "metadata": {},
   "outputs": [],
   "source": [
    "my_tree.right = Tree(5)"
   ]
  },
  {
   "cell_type": "code",
   "execution_count": 103,
   "metadata": {},
   "outputs": [],
   "source": [
    "my_tree.left = Tree(2)"
   ]
  },
  {
   "cell_type": "code",
   "execution_count": 104,
   "metadata": {},
   "outputs": [
    {
     "data": {
      "text/plain": [
       "Tree (Node: 10,Right: Tree (Node: 5,Right: None,Left: None),Left: Tree (Node: 2,Right: None,Left: None))"
      ]
     },
     "execution_count": 104,
     "metadata": {},
     "output_type": "execute_result"
    }
   ],
   "source": [
    "my_tree"
   ]
  },
  {
   "cell_type": "markdown",
   "metadata": {},
   "source": [
    "### Inserting into a Tree"
   ]
  },
  {
   "cell_type": "code",
   "execution_count": 105,
   "metadata": {},
   "outputs": [],
   "source": [
    "class Tree:\n",
    "    def __init__(self,node):\n",
    "        self.node = node\n",
    "        self.right = None\n",
    "        self.left = None\n",
    "        \n",
    "    def insert(self,node):\n",
    "        if self.node:\n",
    "            if node < self.node:\n",
    "                if self.left is None:\n",
    "                    self.left = Tree(node)\n",
    "                else:\n",
    "                    self.left.insert(node)\n",
    "            elif node > self.node:\n",
    "                if self.right is None:\n",
    "                    self.right = Tree(node)\n",
    "                else:\n",
    "                    self.right.insert(node)\n",
    "        else:\n",
    "            self.node = node\n",
    "        \n",
    "    def __repr__(self):\n",
    "        return \"Node: {}, (Right: {}, Left: {})\".format(self.node,self.right,self.left)"
   ]
  },
  {
   "cell_type": "code",
   "execution_count": 106,
   "metadata": {},
   "outputs": [],
   "source": [
    "my_tree = Tree(12)"
   ]
  },
  {
   "cell_type": "code",
   "execution_count": 107,
   "metadata": {},
   "outputs": [
    {
     "data": {
      "text/plain": [
       "Node: 12, (Right: None, Left: None)"
      ]
     },
     "execution_count": 107,
     "metadata": {},
     "output_type": "execute_result"
    }
   ],
   "source": [
    "my_tree"
   ]
  },
  {
   "cell_type": "code",
   "execution_count": 108,
   "metadata": {},
   "outputs": [],
   "source": [
    "my_tree.insert(6)"
   ]
  },
  {
   "cell_type": "code",
   "execution_count": 109,
   "metadata": {},
   "outputs": [
    {
     "data": {
      "text/plain": [
       "Node: 12, (Right: None, Left: Node: 6, (Right: None, Left: None))"
      ]
     },
     "execution_count": 109,
     "metadata": {},
     "output_type": "execute_result"
    }
   ],
   "source": [
    "my_tree"
   ]
  },
  {
   "cell_type": "markdown",
   "metadata": {},
   "source": [
    "# Search Tree"
   ]
  },
  {
   "cell_type": "markdown",
   "metadata": {},
   "source": [
    "A binary search tree (BST) is a tree in which all the nodes follow the below-mentioned properties \n",
    "* the left sub-tree of a node has a key les than or equal to its parent node'e key.\n",
    "* the right sub-tree of a noe has a key greater than to tits parent node's key.\n",
    "\n",
    "searching for a value in a tree involves comparing the incoming value with the value exiting nodes. We travers the nodes from left to right and then finally with the parent. If the searched for value does not match any of the existing vlaue, then we return not found message else the found message is returned.\n"
   ]
  },
  {
   "cell_type": "code",
   "execution_count": 110,
   "metadata": {},
   "outputs": [],
   "source": [
    "class Tree:\n",
    "    def __init__(self,node):\n",
    "        self.node = node\n",
    "        self.right = None\n",
    "        self.left = None\n",
    "        \n",
    "    def insert(self,node):\n",
    "        if self.node:\n",
    "            if node < self.node:\n",
    "                if self.left is None:\n",
    "                    self.left = Tree(node)\n",
    "                else:\n",
    "                    self.left.insert(node)\n",
    "            elif node > self.node:\n",
    "                if self.right is None:\n",
    "                    self.right = Tree(node)\n",
    "                else:\n",
    "                    self.right.insert(node)\n",
    "        else:\n",
    "            self.node = node\n",
    "        \n",
    "    def search(self,value):\n",
    "        if value < self.node:\n",
    "            if self.left is None:\n",
    "                return str(value)+\" Not Found\"\n",
    "            return self.left.search(value)\n",
    "        elif value > self.node:\n",
    "            if self.right is None:\n",
    "                return str(value)+\" Not Found\"\n",
    "            return self.right.search(value)\n",
    "        else:\n",
    "            print(str(value)+\" is found\")\n",
    "        \n",
    "    def __repr__(self):\n",
    "        return \"Node: {}, (Right: {}, Left: {})\".format(self.node,self.right,self.left)"
   ]
  },
  {
   "cell_type": "code",
   "execution_count": 111,
   "metadata": {},
   "outputs": [],
   "source": [
    "my_tree = Tree(12)\n",
    "my_tree.insert(6)\n",
    "my_tree.insert(14)\n",
    "my_tree.insert(3)"
   ]
  },
  {
   "cell_type": "code",
   "execution_count": 112,
   "metadata": {},
   "outputs": [
    {
     "data": {
      "text/plain": [
       "Node: 12, (Right: Node: 14, (Right: None, Left: None), Left: Node: 6, (Right: None, Left: Node: 3, (Right: None, Left: None)))"
      ]
     },
     "execution_count": 112,
     "metadata": {},
     "output_type": "execute_result"
    }
   ],
   "source": [
    "my_tree"
   ]
  },
  {
   "cell_type": "code",
   "execution_count": 113,
   "metadata": {},
   "outputs": [
    {
     "data": {
      "text/plain": [
       "'7 Not Found'"
      ]
     },
     "execution_count": 113,
     "metadata": {},
     "output_type": "execute_result"
    }
   ],
   "source": [
    "my_tree.search(7)"
   ]
  },
  {
   "cell_type": "code",
   "execution_count": 114,
   "metadata": {},
   "outputs": [
    {
     "name": "stdout",
     "output_type": "stream",
     "text": [
      "14 is found\n"
     ]
    }
   ],
   "source": [
    "my_tree.search(14)"
   ]
  },
  {
   "cell_type": "markdown",
   "metadata": {},
   "source": [
    "# Heaps"
   ]
  },
  {
   "cell_type": "markdown",
   "metadata": {},
   "source": [
    "Heap is a special tree structue in which each parent node is less than or equal to its child node. Then it is called a Min Heap. If each parent node is greater than or equal to its child node then it is called Max heap."
   ]
  },
  {
   "cell_type": "markdown",
   "metadata": {},
   "source": [
    "### Create a Heap"
   ]
  },
  {
   "cell_type": "markdown",
   "metadata": {},
   "source": [
    "A heap is created by using python's inbuild librayry named **heapq**. This library has the relevent functions to carry out various operations on heap data structure.\n",
    "* heapify => This function converts a regular list to a heap. In the resulting heap the smallest element gets pushed to the index position 0. But rest of the data elements are not necessarily sorted.\n",
    "* heappush => This function adds an element to the heap without altering the current heap.\n",
    "* heappop => This function returns the smallest data element from the heap.\n",
    "* heapreplace => This function replaces the smallest data element with a new value supplied in the function."
   ]
  },
  {
   "cell_type": "code",
   "execution_count": 115,
   "metadata": {},
   "outputs": [
    {
     "name": "stdout",
     "output_type": "stream",
     "text": [
      "[1, 3, 5, 78, 21, 45]\n"
     ]
    }
   ],
   "source": [
    "import heapq\n",
    "\n",
    "H = [21,1,45,78,3,5]\n",
    "heapq.heapify(H)\n",
    "print(H)"
   ]
  },
  {
   "cell_type": "code",
   "execution_count": 116,
   "metadata": {},
   "outputs": [
    {
     "name": "stdout",
     "output_type": "stream",
     "text": [
      "[1, 3, 5, 78, 21, 45, 8]\n"
     ]
    }
   ],
   "source": [
    "heapq.heappush(H,8)\n",
    "print(H)"
   ]
  },
  {
   "cell_type": "code",
   "execution_count": 117,
   "metadata": {},
   "outputs": [
    {
     "name": "stdout",
     "output_type": "stream",
     "text": [
      "[3, 8, 5, 78, 21, 45]\n"
     ]
    }
   ],
   "source": [
    "heapq.heappop(H)\n",
    "print(H)"
   ]
  },
  {
   "cell_type": "code",
   "execution_count": 118,
   "metadata": {},
   "outputs": [
    {
     "name": "stdout",
     "output_type": "stream",
     "text": [
      "[5, 8, 6, 78, 21, 45]\n"
     ]
    }
   ],
   "source": [
    "heapq.heapreplace(H,6)\n",
    "print(H)"
   ]
  },
  {
   "cell_type": "markdown",
   "metadata": {},
   "source": [
    "# Graphs"
   ]
  },
  {
   "cell_type": "markdown",
   "metadata": {},
   "source": [
    "A graph is a pictorial representation of a set of objects where some pairs of objects are connected by links. The interconnected objects are represented by points termed as vertices and the links that connect the vertices are called edges. Following are the basic operations we perform on graphs.\n",
    "* Display graph verices\n",
    "* Display graph edges\n",
    "* Add a vetex\n",
    "* Add an edge\n",
    "* Creating a graph"
   ]
  },
  {
   "cell_type": "markdown",
   "metadata": {},
   "source": [
    "A graph can be easily presented using the python dictionary data types. We represent the verteices as keys of the dictionary and the connection between the vertices also called deges athe vlaues in the dictionary."
   ]
  },
  {
   "cell_type": "markdown",
   "metadata": {},
   "source": [
    "![](pics/graph_basics.jpg)"
   ]
  },
  {
   "cell_type": "markdown",
   "metadata": {},
   "source": [
    "Vortices = {a,b,c,d,e}\n",
    "Edges = {ab,ac,bd,cd,de}"
   ]
  },
  {
   "cell_type": "code",
   "execution_count": 119,
   "metadata": {},
   "outputs": [],
   "source": [
    "graph = { \"a\" : [\"b\",\"c\"],\n",
    "          \"b\" : [\"a\", \"d\"],\n",
    "          \"c\" : [\"a\", \"d\"],\n",
    "          \"d\" : [\"e\"],\n",
    "          \"e\" : [\"d\"]\n",
    "         }"
   ]
  },
  {
   "cell_type": "code",
   "execution_count": 120,
   "metadata": {},
   "outputs": [
    {
     "data": {
      "text/plain": [
       "{'a': ['b', 'c'], 'b': ['a', 'd'], 'c': ['a', 'd'], 'd': ['e'], 'e': ['d']}"
      ]
     },
     "execution_count": 120,
     "metadata": {},
     "output_type": "execute_result"
    }
   ],
   "source": [
    "graph"
   ]
  },
  {
   "cell_type": "markdown",
   "metadata": {},
   "source": [
    "### Display graph vortices and edges"
   ]
  },
  {
   "cell_type": "code",
   "execution_count": 121,
   "metadata": {},
   "outputs": [],
   "source": [
    "class Graph:\n",
    "    def __init__(self,graph=dict()):\n",
    "        self.graph = graph\n",
    "    \n",
    "    def get_vortices(self):\n",
    "        return list(self.graph.keys()) \n",
    "    \n",
    "    def __edgenames(self): # To make it not accssible by a class instance.\n",
    "        edges = []\n",
    "        for vortex in self.graph:\n",
    "            for next_vortex in self.graph[vortex]:\n",
    "                if {vortex,next_vortex} not in edges:\n",
    "                    edges.append({vortex,next_vortex})\n",
    "        return edges\n",
    "    \n",
    "    def get_edges(self):\n",
    "        return self.__edgenames()\n",
    "    \n",
    "    def add_vortex(self,vortex):\n",
    "        if vortex not in self.graph:\n",
    "            self.graph[vortex] = []\n",
    "    \n",
    "    def add_edge(self,edge):\n",
    "        edge = set(edge)\n",
    "        (vortex,next_vortex) = tuple(edge)\n",
    "        if vortex in self.graph:\n",
    "            self.graph[vortex].append(next_vortex)\n",
    "        else:\n",
    "            self.graph[vortex] = [next_vortex]\n",
    "        \n",
    "    \n",
    "    def __repr__(self):\n",
    "        return Graph.__name__"
   ]
  },
  {
   "cell_type": "code",
   "execution_count": 122,
   "metadata": {},
   "outputs": [],
   "source": [
    "elements = { \"a\" : [\"b\",\"c\"],\n",
    "          \"b\" : [\"a\", \"d\"],\n",
    "          \"c\" : [\"a\", \"d\"],\n",
    "          \"d\" : [\"e\"],\n",
    "          \"e\" : [\"d\"]\n",
    "         }\n",
    "my_graph = Graph(elements)"
   ]
  },
  {
   "cell_type": "code",
   "execution_count": 123,
   "metadata": {},
   "outputs": [
    {
     "data": {
      "text/plain": [
       "['a', 'b', 'c', 'd', 'e']"
      ]
     },
     "execution_count": 123,
     "metadata": {},
     "output_type": "execute_result"
    }
   ],
   "source": [
    "my_graph.get_vortices()"
   ]
  },
  {
   "cell_type": "markdown",
   "metadata": {},
   "source": [
    "### Display graph edges"
   ]
  },
  {
   "cell_type": "markdown",
   "metadata": {},
   "source": [
    "Finding the graph deges is little tricker than the vertices as w have to find each of the pairs of vertices which have an edge in between them. So we crate an empty list of edges then iterate through the edge values associated with each of the vertices. "
   ]
  },
  {
   "cell_type": "code",
   "execution_count": 124,
   "metadata": {},
   "outputs": [
    {
     "data": {
      "text/plain": [
       "[{'a', 'b'}, {'a', 'c'}, {'b', 'd'}, {'c', 'd'}, {'d', 'e'}]"
      ]
     },
     "execution_count": 124,
     "metadata": {},
     "output_type": "execute_result"
    }
   ],
   "source": [
    "my_graph.get_edges()"
   ]
  },
  {
   "cell_type": "markdown",
   "metadata": {},
   "source": [
    "Try to access hidden method"
   ]
  },
  {
   "cell_type": "code",
   "execution_count": 125,
   "metadata": {},
   "outputs": [
    {
     "data": {
      "text/plain": [
       "[{'a', 'b'}, {'a', 'c'}, {'b', 'd'}, {'c', 'd'}, {'d', 'e'}]"
      ]
     },
     "execution_count": 125,
     "metadata": {},
     "output_type": "execute_result"
    }
   ],
   "source": [
    "my_graph._Graph__edgenames()"
   ]
  },
  {
   "cell_type": "code",
   "execution_count": 126,
   "metadata": {},
   "outputs": [
    {
     "ename": "AttributeError",
     "evalue": "'Graph' object has no attribute '__edgenames'",
     "output_type": "error",
     "traceback": [
      "\u001b[0;31m---------------------------------------------------------------------------\u001b[0m",
      "\u001b[0;31mAttributeError\u001b[0m                            Traceback (most recent call last)",
      "\u001b[0;32m<ipython-input-126-763060aea40b>\u001b[0m in \u001b[0;36m<module>\u001b[0;34m\u001b[0m\n\u001b[0;32m----> 1\u001b[0;31m \u001b[0mmy_graph\u001b[0m\u001b[0;34m.\u001b[0m\u001b[0m__edgenames\u001b[0m\u001b[0;34m(\u001b[0m\u001b[0;34m)\u001b[0m\u001b[0;34m\u001b[0m\u001b[0;34m\u001b[0m\u001b[0m\n\u001b[0m",
      "\u001b[0;31mAttributeError\u001b[0m: 'Graph' object has no attribute '__edgenames'"
     ]
    }
   ],
   "source": [
    "my_graph.__edgenames()"
   ]
  },
  {
   "cell_type": "markdown",
   "metadata": {},
   "source": [
    "### Adding a vertex end edges"
   ]
  },
  {
   "cell_type": "code",
   "execution_count": 127,
   "metadata": {},
   "outputs": [],
   "source": [
    "my_graph.add_vortex('f')"
   ]
  },
  {
   "cell_type": "code",
   "execution_count": 128,
   "metadata": {},
   "outputs": [
    {
     "data": {
      "text/plain": [
       "['a', 'b', 'c', 'd', 'e', 'f']"
      ]
     },
     "execution_count": 128,
     "metadata": {},
     "output_type": "execute_result"
    }
   ],
   "source": [
    "my_graph.get_vortices()"
   ]
  },
  {
   "cell_type": "code",
   "execution_count": 129,
   "metadata": {},
   "outputs": [],
   "source": [
    "my_graph.add_edge({'a','e'})"
   ]
  },
  {
   "cell_type": "code",
   "execution_count": 130,
   "metadata": {},
   "outputs": [
    {
     "data": {
      "text/plain": [
       "[{'a', 'b'}, {'a', 'c'}, {'a', 'e'}, {'b', 'd'}, {'c', 'd'}, {'d', 'e'}]"
      ]
     },
     "execution_count": 130,
     "metadata": {},
     "output_type": "execute_result"
    }
   ],
   "source": [
    "my_graph.get_edges()"
   ]
  }
 ],
 "metadata": {
  "kernelspec": {
   "display_name": "Python 3",
   "language": "python",
   "name": "python3"
  },
  "language_info": {
   "codemirror_mode": {
    "name": "ipython",
    "version": 3
   },
   "file_extension": ".py",
   "mimetype": "text/x-python",
   "name": "python",
   "nbconvert_exporter": "python",
   "pygments_lexer": "ipython3",
   "version": "3.7.3"
  }
 },
 "nbformat": 4,
 "nbformat_minor": 2
}
