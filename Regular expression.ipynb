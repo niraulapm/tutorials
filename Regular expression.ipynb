{
 "cells": [
  {
   "cell_type": "markdown",
   "metadata": {},
   "source": [
    "A regular expression is a special sequence of characters that helps you match or find other strings or sets of strings, using a specialized syntax held in a pattern. \n",
    "\n",
    "The python module **re** provides regular expressions in python. The re module raises the exception re.error if an error occurs while compiling or using a regular expression."
   ]
  },
  {
   "cell_type": "markdown",
   "metadata": {},
   "source": [
    "### Regular expression patterns"
   ]
  },
  {
   "cell_type": "markdown",
   "metadata": {},
   "source": [
    "* ^ => Matches beginning of line\n",
    "* $ => Matches end of line\n",
    "* . => Matches any single character except newline. Using m option allows it to match newline as well.\n",
    "* [...] => Matches any single character in brackets.\n",
    "* [^...] => Matches any single character not in brackets\n",
    "* re* => Matches 0 or more occurances of preceding expression.\n",
    "* re+ => Matches 1 or more occurances of preceding expression.\n",
    "* re? => Matches 0 or 1 occurances of preceding expression.\n",
    "* re{n} => Matches exactly n number of occurances of preceding expression.\n",
    "* re{n,} => Matches n or more occurances of preceding expression.\n",
    "* re{n,m} => Matches at least n at most m occurances of preceding expression.\n",
    "* a|b => Matcches either a or b\n",
    "* (re) => Groups regular expressions and remembers matched text\n",
    "* (?imx) => Temporarily toggles on i,m, or x options within a regular expression. If in parentheses, only that area is affected.\n",
    "* (?-imx) => Temporarily toggles off i,m, or x options within a regular expression. If in parentheses, only that area is affected.\n",
    "* (?:re) => Groups regular expression without remembering matched text.\n",
    "* (?imx:re) => Temporarily toggles on i,m or x options within parentheses.\n",
    "* (?-imx:re) => Temporarily toggles off i,m or x options within parentheses.\n",
    "* (?#...) => Comment.\n",
    "* (?=re) => Specifies position using a pattern. Doesn't have a range.\n",
    "* (?!re) => Specifies position using pattern negation. Doesn't have a range.\n",
    "* (?>re) => Matches independent pattern without backtracking.\n",
    "* \\w => Mathces word character\n",
    "* \\W => Matches nonword character\n",
    "* \\s => matches whitespace.Equivalent to [\\t\\n\\r\\f]\n",
    "* \\S => matches nonwhitespace.\n",
    "* \\d => Matches digits. Equivalent to [0-9]\n",
    "* \\D => matches non digits.\n",
    "* \\A => Matches beginning of string.\n",
    "* \\Z => Matches end of string. If a newline exits, it matches just before newline.\n",
    "* \\z => Matches end of string.\n",
    "* \\G => Matches point where last match finished.\n",
    "\n"
   ]
  },
  {
   "cell_type": "markdown",
   "metadata": {},
   "source": [
    "**Repetition Cases**"
   ]
  },
  {
   "cell_type": "raw",
   "metadata": {},
   "source": [
    "ruby? => Match 'rub' or \"ruby\": the y is optional.\n",
    "ruby* => Match 'rub' plus 0 or more ys\n",
    "ruby+ => Match 'rub' plus 1 or more ys\n",
    "Python(?=!) => Match 'Python', if followed by an exclamation point.\n",
    "Python(?!!) => Match 'Python', if not followed by an exclamation point."
   ]
  },
  {
   "cell_type": "markdown",
   "metadata": {},
   "source": [
    "**Non greedy repeatition**\n",
    "This matches the smallest number of repeatition."
   ]
  },
  {
   "cell_type": "raw",
   "metadata": {},
   "source": [
    "<.*> Greedy repeatition: matches \"<python>perl>\"\n",
    "    \n",
    "<.*?> Nongreedy repeatition: matches \"<python>\" in \"<python>perl>\""
   ]
  },
  {
   "cell_type": "markdown",
   "metadata": {},
   "source": [
    "### Backreferences\n",
    "This matches a previous matched group again"
   ]
  },
  {
   "cell_type": "raw",
   "metadata": {},
   "source": [
    "- ([Pp])ython&\\1ails => Match python&pails or Python&Pails\n",
    "- (['\"])[^\\1]*\\1 => Single or double quoted string. "
   ]
  },
  {
   "cell_type": "markdown",
   "metadata": {},
   "source": [
    "### The match function"
   ]
  },
  {
   "cell_type": "raw",
   "metadata": {},
   "source": [
    "re.match(pattern, string, flags=0)\n",
    "\n",
    "-pattern: This is the regular expression to be matched.\n",
    "-string: This is the string, which would be searched to match the pattern at the beginning of string\n",
    "-flags: You can specify different flags using bitwise OR (|). These are modifiers, which are listed in the table below."
   ]
  },
  {
   "cell_type": "markdown",
   "metadata": {},
   "source": [
    "**re.match function returns a match object on success, None on failure. We use group(num) or groups() function of match object to get matched expression.**"
   ]
  },
  {
   "cell_type": "markdown",
   "metadata": {},
   "source": [
    "* group(num=0) - This method returns entire match (or specific subgroup num)\n",
    "* groups() - This method returns all matching subgroups in a tuple (empty if there weren't any)"
   ]
  },
  {
   "cell_type": "code",
   "execution_count": 2,
   "metadata": {},
   "outputs": [],
   "source": [
    "import re\n",
    "\n",
    "line = \"Cats are smarter than dogs\"\n",
    "matchObj = re.match(r'(.*) are (.*?).*',line,re.M|re.I)"
   ]
  },
  {
   "cell_type": "code",
   "execution_count": null,
   "metadata": {},
   "outputs": [],
   "source": []
  }
 ],
 "metadata": {
  "kernelspec": {
   "display_name": "Python 3",
   "language": "python",
   "name": "python3"
  },
  "language_info": {
   "codemirror_mode": {
    "name": "ipython",
    "version": 3
   },
   "file_extension": ".py",
   "mimetype": "text/x-python",
   "name": "python",
   "nbconvert_exporter": "python",
   "pygments_lexer": "ipython3",
   "version": "3.7.3"
  }
 },
 "nbformat": 4,
 "nbformat_minor": 2
}
